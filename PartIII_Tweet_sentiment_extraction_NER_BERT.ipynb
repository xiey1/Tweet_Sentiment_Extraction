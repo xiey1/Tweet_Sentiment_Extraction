{
 "cells": [
  {
   "cell_type": "markdown",
   "metadata": {},
   "source": [
    "# Summary:\n",
    "This notebook will cover applying **Named Entity Recognition (NER)** using **BERT** for tweet sentiment extraction."
   ]
  },
  {
   "cell_type": "markdown",
   "metadata": {},
   "source": [
    "# Table of contents\n",
    "* [1. Data preparation](#Part1_link)\n",
    "<br >&nbsp;&nbsp;&nbsp;[1.1 Tokenize text and selected_text](#Part1.1_link)\n",
    "<br >&nbsp;&nbsp;&nbsp;[1.2 Generate data input for BERT](#Part1.2_link)\n",
    "<br >&nbsp;&nbsp;&nbsp;[1.3 Generate TensorDataset and DataLoader](#Part1.3_link)\n",
    "* [2. Train the Named Entity Recognition model](#Part2_link)\n",
    "<br >&nbsp;&nbsp;&nbsp;[2.1 Model training](#Part2.1_link)\n",
    "<br >&nbsp;&nbsp;&nbsp;[2.2 Evaluate training performance](#Part2.2_link)\n",
    "* [3. Model evaluation](#Part3_link)\n",
    "<br >&nbsp;&nbsp;&nbsp;[3.1 Predict extracted text using trained model for training datasets](#Part3.1_link)\n",
    "<br >&nbsp;&nbsp;&nbsp;[3.2 Compute jaccard similarity score for predictions on training datasets](#Part3.2_link)\n",
    "* [4. Prediction on test datasets](#Part4_link)"
   ]
  },
  {
   "cell_type": "code",
   "execution_count": 1,
   "metadata": {},
   "outputs": [],
   "source": [
    "import pandas as pd\n",
    "import numpy as np\n",
    "import os\n",
    "import matplotlib.pyplot as plt\n",
    "%matplotlib inline\n",
    "import seaborn as sns\n",
    "\n",
    "from nltk import sent_tokenize\n",
    "import torch\n",
    "from torch import nn\n",
    "from torch.utils.data import TensorDataset, DataLoader\n",
    "import tokenizers\n",
    "import transformers\n",
    "from tokenizers import BertWordPieceTokenizer\n",
    "from transformers import BertTokenizer\n",
    "from transformers import BertModel\n",
    "from transformers import BertForTokenClassification\n",
    "from sklearn.model_selection import train_test_split\n",
    "from transformers import AdamW\n",
    "from transformers import get_linear_schedule_with_warmup\n",
    "\n",
    "from tqdm import tqdm"
   ]
  },
  {
   "cell_type": "code",
   "execution_count": 2,
   "metadata": {},
   "outputs": [],
   "source": [
    "base_dir=\"/Volumes/Yuchen_Drive/Tweet_Sentiment_Extraction/tweet-sentiment-extraction\"\n",
    "bert_vocab_path=\"/Volumes/Yuchen_Drive/bert/tokenizer_vocab\""
   ]
  },
  {
   "cell_type": "code",
   "execution_count": 3,
   "metadata": {},
   "outputs": [],
   "source": [
    "class Config:\n",
    "    max_len=128"
   ]
  },
  {
   "cell_type": "code",
   "execution_count": 4,
   "metadata": {},
   "outputs": [
    {
     "name": "stdout",
     "output_type": "stream",
     "text": [
      "training set: (27481, 4)\n",
      "testing set: (3534, 3)\n",
      "training set after removing NA: (27480, 4)\n"
     ]
    }
   ],
   "source": [
    "train_df=pd.read_csv(os.path.join(base_dir,\"train.csv\"))\n",
    "test_df=pd.read_csv(os.path.join(base_dir,\"test.csv\"))\n",
    "print(\"training set: {}\".format(train_df.shape))\n",
    "print(\"testing set: {}\".format(test_df.shape))\n",
    "train_df.dropna(inplace=True)\n",
    "print(\"training set after removing NA: {}\".format(train_df.shape))"
   ]
  },
  {
   "cell_type": "code",
   "execution_count": 5,
   "metadata": {},
   "outputs": [
    {
     "data": {
      "text/html": [
       "<div>\n",
       "<style scoped>\n",
       "    .dataframe tbody tr th:only-of-type {\n",
       "        vertical-align: middle;\n",
       "    }\n",
       "\n",
       "    .dataframe tbody tr th {\n",
       "        vertical-align: top;\n",
       "    }\n",
       "\n",
       "    .dataframe thead th {\n",
       "        text-align: right;\n",
       "    }\n",
       "</style>\n",
       "<table border=\"1\" class=\"dataframe\">\n",
       "  <thead>\n",
       "    <tr style=\"text-align: right;\">\n",
       "      <th></th>\n",
       "      <th>textID</th>\n",
       "      <th>text</th>\n",
       "      <th>selected_text</th>\n",
       "      <th>sentiment</th>\n",
       "    </tr>\n",
       "  </thead>\n",
       "  <tbody>\n",
       "    <tr>\n",
       "      <th>0</th>\n",
       "      <td>cb774db0d1</td>\n",
       "      <td>I`d have responded, if I were going</td>\n",
       "      <td>I`d have responded, if I were going</td>\n",
       "      <td>neutral</td>\n",
       "    </tr>\n",
       "    <tr>\n",
       "      <th>1</th>\n",
       "      <td>549e992a42</td>\n",
       "      <td>Sooo SAD I will miss you here in San Diego!!!</td>\n",
       "      <td>Sooo SAD</td>\n",
       "      <td>negative</td>\n",
       "    </tr>\n",
       "    <tr>\n",
       "      <th>2</th>\n",
       "      <td>088c60f138</td>\n",
       "      <td>my boss is bullying me...</td>\n",
       "      <td>bullying me</td>\n",
       "      <td>negative</td>\n",
       "    </tr>\n",
       "    <tr>\n",
       "      <th>3</th>\n",
       "      <td>9642c003ef</td>\n",
       "      <td>what interview! leave me alone</td>\n",
       "      <td>leave me alone</td>\n",
       "      <td>negative</td>\n",
       "    </tr>\n",
       "    <tr>\n",
       "      <th>4</th>\n",
       "      <td>358bd9e861</td>\n",
       "      <td>Sons of ****, why couldn`t they put them on t...</td>\n",
       "      <td>Sons of ****,</td>\n",
       "      <td>negative</td>\n",
       "    </tr>\n",
       "  </tbody>\n",
       "</table>\n",
       "</div>"
      ],
      "text/plain": [
       "       textID                                               text  \\\n",
       "0  cb774db0d1                I`d have responded, if I were going   \n",
       "1  549e992a42      Sooo SAD I will miss you here in San Diego!!!   \n",
       "2  088c60f138                          my boss is bullying me...   \n",
       "3  9642c003ef                     what interview! leave me alone   \n",
       "4  358bd9e861   Sons of ****, why couldn`t they put them on t...   \n",
       "\n",
       "                         selected_text sentiment  \n",
       "0  I`d have responded, if I were going   neutral  \n",
       "1                             Sooo SAD  negative  \n",
       "2                          bullying me  negative  \n",
       "3                       leave me alone  negative  \n",
       "4                        Sons of ****,  negative  "
      ]
     },
     "execution_count": 5,
     "metadata": {},
     "output_type": "execute_result"
    }
   ],
   "source": [
    "train_df.head()"
   ]
  },
  {
   "cell_type": "code",
   "execution_count": 6,
   "metadata": {},
   "outputs": [
    {
     "data": {
      "text/html": [
       "<div>\n",
       "<style scoped>\n",
       "    .dataframe tbody tr th:only-of-type {\n",
       "        vertical-align: middle;\n",
       "    }\n",
       "\n",
       "    .dataframe tbody tr th {\n",
       "        vertical-align: top;\n",
       "    }\n",
       "\n",
       "    .dataframe thead th {\n",
       "        text-align: right;\n",
       "    }\n",
       "</style>\n",
       "<table border=\"1\" class=\"dataframe\">\n",
       "  <thead>\n",
       "    <tr style=\"text-align: right;\">\n",
       "      <th></th>\n",
       "      <th>textID</th>\n",
       "      <th>text</th>\n",
       "      <th>sentiment</th>\n",
       "    </tr>\n",
       "  </thead>\n",
       "  <tbody>\n",
       "    <tr>\n",
       "      <th>0</th>\n",
       "      <td>f87dea47db</td>\n",
       "      <td>Last session of the day  http://twitpic.com/67ezh</td>\n",
       "      <td>neutral</td>\n",
       "    </tr>\n",
       "    <tr>\n",
       "      <th>1</th>\n",
       "      <td>96d74cb729</td>\n",
       "      <td>Shanghai is also really exciting (precisely -...</td>\n",
       "      <td>positive</td>\n",
       "    </tr>\n",
       "    <tr>\n",
       "      <th>2</th>\n",
       "      <td>eee518ae67</td>\n",
       "      <td>Recession hit Veronique Branquinho, she has to...</td>\n",
       "      <td>negative</td>\n",
       "    </tr>\n",
       "    <tr>\n",
       "      <th>3</th>\n",
       "      <td>01082688c6</td>\n",
       "      <td>happy bday!</td>\n",
       "      <td>positive</td>\n",
       "    </tr>\n",
       "    <tr>\n",
       "      <th>4</th>\n",
       "      <td>33987a8ee5</td>\n",
       "      <td>http://twitpic.com/4w75p - I like it!!</td>\n",
       "      <td>positive</td>\n",
       "    </tr>\n",
       "  </tbody>\n",
       "</table>\n",
       "</div>"
      ],
      "text/plain": [
       "       textID                                               text sentiment\n",
       "0  f87dea47db  Last session of the day  http://twitpic.com/67ezh   neutral\n",
       "1  96d74cb729   Shanghai is also really exciting (precisely -...  positive\n",
       "2  eee518ae67  Recession hit Veronique Branquinho, she has to...  negative\n",
       "3  01082688c6                                        happy bday!  positive\n",
       "4  33987a8ee5             http://twitpic.com/4w75p - I like it!!  positive"
      ]
     },
     "execution_count": 6,
     "metadata": {},
     "output_type": "execute_result"
    }
   ],
   "source": [
    "test_df.head()"
   ]
  },
  {
   "cell_type": "markdown",
   "metadata": {},
   "source": [
    "<a id='Part1_link'></a>\n",
    "# 1. Data preparation"
   ]
  },
  {
   "cell_type": "code",
   "execution_count": 8,
   "metadata": {},
   "outputs": [],
   "source": [
    "tokenizer=BertWordPieceTokenizer(os.path.join(bert_vocab_path,\"bert-base-uncased-vocab.txt\"),lowercase=True)"
   ]
  },
  {
   "cell_type": "markdown",
   "metadata": {},
   "source": [
    "<a id='Part1.1_link'></a>\n",
    "## 1.1 Tokenize text and selected_text"
   ]
  },
  {
   "cell_type": "code",
   "execution_count": 9,
   "metadata": {},
   "outputs": [],
   "source": [
    "def process_data(text,selected_text,tokenizer,sentiment):\n",
    "    '''\n",
    "    contexts correspond to text,\n",
    "    answers correspond to selected_text\n",
    "    '''\n",
    "    idx0=None\n",
    "    idx1=None\n",
    "    sentiment_tag={\"neutral\":1,\n",
    "                   \"positive\":2,\n",
    "                   \"negative\":3}\n",
    "    for i,char in enumerate(text):\n",
    "        if text[i]==selected_text[0]:\n",
    "            if text[i:i+len(selected_text)]==selected_text:\n",
    "                idx0=i\n",
    "                idx1=i+len(selected_text)\n",
    "                break\n",
    "    char_targets=[0]*len(text)\n",
    "    if idx0 != None and idx1 != None:\n",
    "        for i in range(idx0,idx1):\n",
    "            char_targets[i]=1\n",
    "    \n",
    "    text_tok=tokenizer.encode(text)\n",
    "    input_ids_orig=text_tok.ids\n",
    "    input_offsets=text_tok.offsets\n",
    "    \n",
    "    target_idx=[]\n",
    "    \n",
    "    for i,(offset1,offset2) in enumerate(input_offsets):\n",
    "        if sum(char_targets[offset1:offset2])>0:\n",
    "            target_idx.append(i)\n",
    "    \n",
    "    targets=[0]*len(input_ids_orig)\n",
    "    for idx in target_idx:\n",
    "        targets[idx]=sentiment_tag[sentiment]\n",
    "    return targets"
   ]
  },
  {
   "cell_type": "code",
   "execution_count": 10,
   "metadata": {},
   "outputs": [
    {
     "name": "stderr",
     "output_type": "stream",
     "text": [
      "/Users/yuchenxie/miniconda3/lib/python3.7/site-packages/tqdm/std.py:666: FutureWarning: The Panel class is removed from pandas. Accessing it from the top-level namespace will also be removed in the next version\n",
      "  from pandas import Panel\n",
      "100%|██████████| 27480/27480 [00:06<00:00, 4498.79it/s]\n"
     ]
    }
   ],
   "source": [
    "tqdm.pandas()\n",
    "train_df[\"target\"]=train_df.progress_apply(lambda x:process_data(x.text,x.selected_text,tokenizer,x.sentiment),axis=1)\n",
    "train_df[\"target\"]=train_df[\"target\"].apply(lambda x:x+[0]*(Config.max_len-len(x)))"
   ]
  },
  {
   "cell_type": "markdown",
   "metadata": {},
   "source": [
    "<a id='Part1.2_link'></a>\n",
    "## 1.2 Generate data input for BERT"
   ]
  },
  {
   "cell_type": "code",
   "execution_count": 11,
   "metadata": {},
   "outputs": [],
   "source": [
    "def bert_ner_input(sents,tokenizer,max_len):\n",
    "    input_ids=[]\n",
    "    token_type_ids=[]\n",
    "    attention_masks=[]\n",
    "    for sent in sents:\n",
    "        inputs=tokenizer.encode(sent)\n",
    "        input_id=inputs.ids\n",
    "        attention_mask=inputs.attention_mask\n",
    "        token_type_id=inputs.type_ids\n",
    "        padding_length=max_len-len(input_id)\n",
    "        input_id=input_id+([0]*padding_length)\n",
    "        attention_mask=attention_mask+([0]*padding_length)\n",
    "        token_type_id=token_type_id+([0]*padding_length)\n",
    "        \n",
    "        input_ids.append(torch.tensor(input_id).reshape(1,-1))\n",
    "        token_type_ids.append(torch.tensor(token_type_id).reshape(1,-1))\n",
    "        attention_masks.append(torch.tensor(attention_mask).reshape(1,-1))\n",
    "    \n",
    "    input_ids=torch.cat(input_ids,dim=0)\n",
    "    token_type_ids=torch.cat(token_type_ids,dim=0)\n",
    "    attention_masks=torch.cat(attention_masks,dim=0)\n",
    "    \n",
    "    return input_ids,token_type_ids,attention_masks\n",
    "    "
   ]
  },
  {
   "cell_type": "code",
   "execution_count": 12,
   "metadata": {},
   "outputs": [],
   "source": [
    "train_set,val_set=train_test_split(train_df,train_size=0.8,stratify=train_df.sentiment)"
   ]
  },
  {
   "cell_type": "code",
   "execution_count": 14,
   "metadata": {},
   "outputs": [
    {
     "name": "stdout",
     "output_type": "stream",
     "text": [
      "Number of samples in training set: 21984\n",
      "Number of samples in validation set: 5496\n"
     ]
    }
   ],
   "source": [
    "print(\"Number of samples in training set: {}\".format(train_set.shape[0]))\n",
    "print(\"Number of samples in validation set: {}\".format(val_set.shape[0]))"
   ]
  },
  {
   "cell_type": "code",
   "execution_count": 15,
   "metadata": {},
   "outputs": [],
   "source": [
    "train_input_ids,train_token_type_ids,train_attention_masks=bert_ner_input(train_set.text.values.tolist(),tokenizer,max_len=128)\n",
    "val_input_ids,val_token_type_ids,val_attention_masks=bert_ner_input(val_set.text.values.tolist(),tokenizer,max_len=128)\n"
   ]
  },
  {
   "cell_type": "code",
   "execution_count": 16,
   "metadata": {},
   "outputs": [
    {
     "name": "stdout",
     "output_type": "stream",
     "text": [
      "torch.Size([21984, 128])\n",
      "torch.Size([21984, 128])\n",
      "torch.Size([21984, 128])\n",
      "torch.Size([5496, 128])\n",
      "torch.Size([5496, 128])\n",
      "torch.Size([5496, 128])\n"
     ]
    }
   ],
   "source": [
    "print(train_input_ids.shape)\n",
    "print(train_token_type_ids.shape)\n",
    "print(train_attention_masks.shape)\n",
    "\n",
    "print(val_input_ids.shape)\n",
    "print(val_token_type_ids.shape)\n",
    "print(val_attention_masks.shape)"
   ]
  },
  {
   "cell_type": "code",
   "execution_count": 17,
   "metadata": {},
   "outputs": [],
   "source": [
    "train_labels=torch.tensor(train_set.target.values.tolist())\n",
    "val_labels=torch.tensor(val_set.target.values.tolist())"
   ]
  },
  {
   "cell_type": "code",
   "execution_count": 18,
   "metadata": {},
   "outputs": [
    {
     "name": "stdout",
     "output_type": "stream",
     "text": [
      "torch.Size([21984, 128])\n",
      "torch.Size([5496, 128])\n"
     ]
    }
   ],
   "source": [
    "print(train_labels.shape)\n",
    "print(val_labels.shape)"
   ]
  },
  {
   "cell_type": "markdown",
   "metadata": {},
   "source": [
    "<a id='Part1.3_link'></a>\n",
    "## 1.3 Generate TensorDataset and DataLoader"
   ]
  },
  {
   "cell_type": "code",
   "execution_count": 19,
   "metadata": {},
   "outputs": [],
   "source": [
    "train_data=TensorDataset(train_input_ids,train_token_type_ids,train_attention_masks,train_labels)\n",
    "val_data=TensorDataset(val_input_ids,val_token_type_ids,val_attention_masks,val_labels)\n"
   ]
  },
  {
   "cell_type": "code",
   "execution_count": 20,
   "metadata": {},
   "outputs": [],
   "source": [
    "# BATCH_SIZE=128\n",
    "BATCH_SIZE=8\n",
    "train_loader=DataLoader(train_data,shuffle=True,batch_size=BATCH_SIZE)\n",
    "val_loader=DataLoader(val_data,shuffle=True,batch_size=BATCH_SIZE)\n"
   ]
  },
  {
   "cell_type": "code",
   "execution_count": 21,
   "metadata": {},
   "outputs": [
    {
     "name": "stdout",
     "output_type": "stream",
     "text": [
      "torch.Size([8, 128])\n",
      "torch.Size([8, 128])\n",
      "torch.Size([8, 128])\n",
      "torch.Size([8, 128])\n"
     ]
    }
   ],
   "source": [
    "input_ids,token_type_ids,attention_masks,labels=next(iter(train_loader))\n",
    "print(input_ids.shape)\n",
    "print(token_type_ids.shape)\n",
    "print(attention_masks.shape)\n",
    "print(labels.shape)"
   ]
  },
  {
   "cell_type": "code",
   "execution_count": 22,
   "metadata": {},
   "outputs": [],
   "source": [
    "model=BertForTokenClassification.from_pretrained(\"bert-base-uncased\",num_labels=4)"
   ]
  },
  {
   "cell_type": "code",
   "execution_count": 23,
   "metadata": {},
   "outputs": [],
   "source": [
    "with torch.no_grad():\n",
    "    loss,logits=model(input_ids,\n",
    "                      token_type_ids=token_type_ids,\n",
    "                      attention_mask=attention_masks,\n",
    "                      labels=labels)"
   ]
  },
  {
   "cell_type": "code",
   "execution_count": 24,
   "metadata": {},
   "outputs": [
    {
     "name": "stdout",
     "output_type": "stream",
     "text": [
      "tensor(1.4473)\n",
      "torch.Size([8, 128, 4])\n"
     ]
    }
   ],
   "source": [
    "print(loss)\n",
    "print(logits.shape)"
   ]
  },
  {
   "cell_type": "markdown",
   "metadata": {},
   "source": [
    "<a id='Part2_link'></a>\n",
    "# 2. Train the Named Entity Recognition model"
   ]
  },
  {
   "cell_type": "markdown",
   "metadata": {},
   "source": [
    "<a id='Part2.1_link'></a>\n",
    "## 2.1 Model training"
   ]
  },
  {
   "cell_type": "code",
   "execution_count": 25,
   "metadata": {},
   "outputs": [],
   "source": [
    "def compute_jaccard_similarity_bert_ner(input_id,pred,y,device):\n",
    "    if device.type == 'cpu':\n",
    "        pred=pred.numpy()\n",
    "        y=y.numpy()\n",
    "        input_id=input_id.numpy()\n",
    "    else:\n",
    "        pred=pred.cpu().numpy()\n",
    "        y=y.cpu().numpy()\n",
    "        input_id=input_id.cpu().numpy()\n",
    "    tag=np.unique(y)[-1]\n",
    "    pred1=input_id[pred==tag]\n",
    "    y1=input_id[y==tag]\n",
    "    return len(set(pred1).intersection(set(y1)))/len(set(pred1).union(set(y1)))"
   ]
  },
  {
   "cell_type": "code",
   "execution_count": 26,
   "metadata": {},
   "outputs": [],
   "source": [
    "def bert_ner_train(n_epochs,model,train_loader,val_loader,optimizer,scheduler,device,save_path,batch_size,step_size,clip=1.0):\n",
    "    step_dict={}\n",
    "    model=model.to(device)\n",
    "    step=1\n",
    "    step_dict[1]={}\n",
    "    valid_loss_min = np.Inf\n",
    "\n",
    "    for epoch in np.arange(n_epochs):\n",
    "        train_loss = 0.0\n",
    "        train_jaccard = []\n",
    "        val_loss = 0.0\n",
    "        val_jaccard = []\n",
    "        # Training\n",
    "        model.train()\n",
    "        for i,batch in enumerate(train_loader):\n",
    "            optimizer.zero_grad()\n",
    "            input_ids,token_type_ids,attention_masks,labels=batch[0].to(device),batch[1].to(device),batch[2].to(device),batch[3].to(device)\n",
    "            loss,logits=model(input_ids,\n",
    "                              token_type_ids=token_type_ids,\n",
    "                              attention_mask=attention_masks,\n",
    "                              labels=labels)\n",
    "                                               \n",
    "            train_loss += loss.item()*input_ids.shape[0]\n",
    "            loss.backward()\n",
    "            torch.nn.utils.clip_grad_norm_(model.parameters(), clip)\n",
    "            optimizer.step()\n",
    "            scheduler.step()\n",
    "            ## Update pred jaccard similarity for the training process\n",
    "            #_, top_class = logits.topk(1,dim=2)\n",
    "            for j in range(input_ids.shape[0]):\n",
    "                seq_len=sum(attention_masks[j]>0).item()\n",
    "                _, top_class = logits[j].topk(1,dim=1)\n",
    "                input_id=input_ids[j][:seq_len]\n",
    "                pred=top_class.squeeze()[:seq_len]\n",
    "                y=labels[j][:seq_len]\n",
    "                jaccard_score=compute_jaccard_similarity_bert_ner(input_id,\n",
    "                                                                  pred,\n",
    "                                                                  y,\n",
    "                                                                  device)\n",
    "                train_jaccard.append(jaccard_score)\n",
    "            \n",
    "            if (i+1)%step_size==0:\n",
    "                ## validation\n",
    "                with torch.no_grad():\n",
    "                    model.eval()\n",
    "                    for batch in val_loader:\n",
    "                        input_ids,token_type_ids,attention_masks,labels=batch[0].to(device),batch[1].to(device),batch[2].to(device),batch[3].to(device)\n",
    "                        loss,logits=model(input_ids,\n",
    "                                          token_type_ids=token_type_ids,\n",
    "                                          attention_mask=attention_masks,\n",
    "                                          labels=labels)\n",
    "                        ## Update loss and pred jaccard similarity for the validation process\n",
    "                        val_loss += loss.item()*input_ids.shape[0]\n",
    "                        for j in range(input_ids.shape[0]):\n",
    "                            seq_len=sum(attention_masks[j]>0).item()\n",
    "                            _, top_class = logits[j].topk(1,dim=1)\n",
    "                            input_id=input_ids[j][:seq_len]\n",
    "                            pred=top_class.squeeze()[:seq_len]\n",
    "                            y=labels[j][:seq_len]\n",
    "                            jaccard_score=compute_jaccard_similarity_bert_ner(input_id,\n",
    "                                                                              pred,\n",
    "                                                                              y,\n",
    "                                                                              device)\n",
    "                            val_jaccard.append(jaccard_score)\n",
    "                        \n",
    "                    ### write training/validation loss/accuracy\n",
    "                    step_dict[step][\"Train_Loss\"]=train_loss/(step_size*batch_size)\n",
    "                    step_dict[step][\"Train_jaccard_sim\"]=sum(train_jaccard)/len(train_jaccard)\n",
    "                    step_dict[step][\"Val_Loss\"]=val_loss/len(val_loader.sampler)\n",
    "                    step_dict[step][\"Val_jaccard_sim\"]=sum(val_jaccard)/len(val_jaccard)\n",
    "\n",
    "                    print(\"Step: {}.. \".format(step),\n",
    "                          \"Train Loss: {:.3f}.. \".format(step_dict[step][\"Train_Loss\"]),\n",
    "                          \"Train jaccard similarity: {:.3f}.. \".format(step_dict[step][\"Train_jaccard_sim\"]),\n",
    "                          \"Validation Loss: {:.3f}.. \".format(step_dict[step][\"Val_Loss\"]),\n",
    "                          \"Validation jaccard similarity: {:.3f}.. \".format(step_dict[step][\"Val_jaccard_sim\"]))\n",
    "\n",
    "                    ## save the model with the lowest val_loss and update valid_loss_min\n",
    "                    if val_loss <= valid_loss_min:\n",
    "                        print('Validation loss decreased -- Saving model -- \\n')\n",
    "                        model_to_save = model.module if hasattr(model, 'module') else model  # Take care of distributed/parallel training\n",
    "                        model_to_save.save_pretrained(save_path)\n",
    "                        #torch.save(model.state_dict(), save_path)\n",
    "                        valid_loss_min = val_loss\n",
    "                    \n",
    "                    step+=1\n",
    "                    step_dict[step]={}\n",
    "                    train_loss = 0.0\n",
    "                    train_jaccard = []\n",
    "                    val_loss = 0.0\n",
    "                    val_jaccard = []\n",
    "        \n",
    "    step_df=pd.DataFrame.from_dict(step_dict,orient=\"index\")\n",
    "    step_df[\"step\"]=step_df.index\n",
    "    return model,step_df"
   ]
  },
  {
   "cell_type": "code",
   "execution_count": 27,
   "metadata": {},
   "outputs": [],
   "source": [
    "model=BertForTokenClassification.from_pretrained(\"bert-base-uncased\",num_labels=4)\n",
    "\n",
    "device = torch.device('cuda:0' if torch.cuda.is_available() else 'cpu')\n",
    "\n",
    "optimizer = AdamW(model.parameters(),\n",
    "                  lr = 2e-5, # args.learning_rate - default is 5e-5, our notebook had 2e-5\n",
    "                  eps = 1e-8 # args.adam_epsilon  - default is 1e-8.\n",
    "                )\n",
    "\n",
    "n_epochs=2\n",
    "total_steps = len(train_loader)*n_epochs\n",
    "scheduler = get_linear_schedule_with_warmup(optimizer, \n",
    "                                            num_warmup_steps = 0, # Default value in run_glue.py\n",
    "                                            num_training_steps = total_steps)"
   ]
  },
  {
   "cell_type": "code",
   "execution_count": null,
   "metadata": {},
   "outputs": [],
   "source": [
    "save_path=os.path.join(base_dir,\"bert_ner_models/Tweet_bert_ner_maxlen128_epoch2_batch8_step40_clip1\")\n",
    "model,step_df=bert_ner_train(n_epochs,model,train_loader,val_loader,optimizer,scheduler,device,save_path,batch_size=BATCH_SIZE,step_size=40,clip=1.0)\n",
    "step_df.to_csv(os.path.join(base_dir,\"bert_ner_models/Tweet_bert_ner_maxlen128_epoch2_batch8_step40_clip1.csv\"),index=False)"
   ]
  },
  {
   "cell_type": "markdown",
   "metadata": {},
   "source": [
    "<a id='Part2.2_link'></a>\n",
    "## 2.2 Evaluate training performance"
   ]
  },
  {
   "cell_type": "code",
   "execution_count": 30,
   "metadata": {},
   "outputs": [],
   "source": [
    "step_df=pd.read_csv(os.path.join(base_dir,\"bert_ner_models/Tweet_bert_ner_maxlen128_epoch2_batch8_step80_clip1.csv\"))"
   ]
  },
  {
   "cell_type": "code",
   "execution_count": 31,
   "metadata": {},
   "outputs": [
    {
     "data": {
      "text/html": [
       "<div>\n",
       "<style scoped>\n",
       "    .dataframe tbody tr th:only-of-type {\n",
       "        vertical-align: middle;\n",
       "    }\n",
       "\n",
       "    .dataframe tbody tr th {\n",
       "        vertical-align: top;\n",
       "    }\n",
       "\n",
       "    .dataframe thead th {\n",
       "        text-align: right;\n",
       "    }\n",
       "</style>\n",
       "<table border=\"1\" class=\"dataframe\">\n",
       "  <thead>\n",
       "    <tr style=\"text-align: right;\">\n",
       "      <th></th>\n",
       "      <th>Train_Loss</th>\n",
       "      <th>Train_jaccard_sim</th>\n",
       "      <th>Val_Loss</th>\n",
       "      <th>Val_jaccard_sim</th>\n",
       "      <th>step</th>\n",
       "    </tr>\n",
       "  </thead>\n",
       "  <tbody>\n",
       "    <tr>\n",
       "      <th>0</th>\n",
       "      <td>1.084990</td>\n",
       "      <td>0.074576</td>\n",
       "      <td>1.032407</td>\n",
       "      <td>0.044401</td>\n",
       "      <td>1</td>\n",
       "    </tr>\n",
       "    <tr>\n",
       "      <th>1</th>\n",
       "      <td>0.986260</td>\n",
       "      <td>0.208702</td>\n",
       "      <td>0.893344</td>\n",
       "      <td>0.292208</td>\n",
       "      <td>2</td>\n",
       "    </tr>\n",
       "    <tr>\n",
       "      <th>2</th>\n",
       "      <td>0.878029</td>\n",
       "      <td>0.391584</td>\n",
       "      <td>0.876465</td>\n",
       "      <td>0.492804</td>\n",
       "      <td>3</td>\n",
       "    </tr>\n",
       "    <tr>\n",
       "      <th>3</th>\n",
       "      <td>0.855039</td>\n",
       "      <td>0.333559</td>\n",
       "      <td>0.812596</td>\n",
       "      <td>0.440619</td>\n",
       "      <td>4</td>\n",
       "    </tr>\n",
       "    <tr>\n",
       "      <th>4</th>\n",
       "      <td>0.790397</td>\n",
       "      <td>0.413826</td>\n",
       "      <td>0.765401</td>\n",
       "      <td>0.440872</td>\n",
       "      <td>5</td>\n",
       "    </tr>\n",
       "  </tbody>\n",
       "</table>\n",
       "</div>"
      ],
      "text/plain": [
       "   Train_Loss  Train_jaccard_sim  Val_Loss  Val_jaccard_sim  step\n",
       "0    1.084990           0.074576  1.032407         0.044401     1\n",
       "1    0.986260           0.208702  0.893344         0.292208     2\n",
       "2    0.878029           0.391584  0.876465         0.492804     3\n",
       "3    0.855039           0.333559  0.812596         0.440619     4\n",
       "4    0.790397           0.413826  0.765401         0.440872     5"
      ]
     },
     "execution_count": 31,
     "metadata": {},
     "output_type": "execute_result"
    }
   ],
   "source": [
    "step_df.head()"
   ]
  },
  {
   "cell_type": "code",
   "execution_count": 32,
   "metadata": {},
   "outputs": [
    {
     "data": {
      "image/png": "[encoded data removed]",
      "text/plain": [
       "<Figure size 864x360 with 2 Axes>"
      ]
     },
     "metadata": {
      "needs_background": "light"
     },
     "output_type": "display_data"
    }
   ],
   "source": [
    "fig,axes=plt.subplots(1,2,figsize=(12,5))\n",
    "axes[0].plot(step_df.step,step_df.Train_Loss,label=\"Training loss\")\n",
    "axes[0].plot(step_df.step,step_df.Val_Loss,label=\"Validation loss\")\n",
    "axes[0].set_xlabel(\"Step\",fontsize=16)\n",
    "axes[0].set_ylabel(\"Loss\",fontsize=16)\n",
    "axes[0].set_title(\"Training and validation loss\",fontsize=18)\n",
    "\n",
    "axes[1].plot(step_df.step,step_df.Train_jaccard_sim,label=\"Training jaccard similarity\")\n",
    "axes[1].plot(step_df.step,step_df.Val_jaccard_sim,label=\"Validation jaccard similarity\")\n",
    "axes[1].set_xlabel(\"Step\",fontsize=16)\n",
    "axes[1].set_ylabel(\"Jaccard similarity\",fontsize=16)\n",
    "axes[1].set_title(\"Training and validation jaccard similarity\",fontsize=18)\n",
    "plt.tight_layout()"
   ]
  },
  {
   "cell_type": "markdown",
   "metadata": {},
   "source": [
    "<a id='Part3_link'></a>\n",
    "# 3. Model evaluation"
   ]
  },
  {
   "cell_type": "markdown",
   "metadata": {},
   "source": [
    "<a id='Part3.1_link'></a>\n",
    "## 3.1 Predict extracted text using trained model for training datasets"
   ]
  },
  {
   "cell_type": "code",
   "execution_count": 33,
   "metadata": {},
   "outputs": [],
   "source": [
    "def decode_tweet(original_tweet,idx_start,idx_end,offsets):\n",
    "    filtered_output  = \"\"\n",
    "    for ix in range(idx_start, idx_end + 1):\n",
    "        filtered_output += original_tweet[offsets[ix][0]: offsets[ix][1]]\n",
    "        if (ix+1) < len(offsets) and offsets[ix][1] < offsets[ix+1][0]:\n",
    "            filtered_output += \" \"\n",
    "    return filtered_output"
   ]
  },
  {
   "cell_type": "code",
   "execution_count": 34,
   "metadata": {},
   "outputs": [],
   "source": [
    "def bert_ner_pred(text,sentiment):\n",
    "    sentiment_tag={\"neutral\":1,\n",
    "                   \"positive\":2,\n",
    "                   \"negative\":3}\n",
    "    text_tok=tokenizer.encode(text)\n",
    "    input_ids=torch.tensor([text_tok.ids]).to(device)\n",
    "    with torch.no_grad():\n",
    "        logits=model(input_ids)\n",
    "    logit=logits[0][0]\n",
    "    _, top_class = logit.topk(1,dim=1)\n",
    "    pred=top_class.squeeze().numpy()\n",
    "    \n",
    "    indexes = list(np.where(pred==sentiment_tag[sentiment])[0])\n",
    "    encoded_text = tokenizer.encode(text)\n",
    "    if len(indexes)>0:\n",
    "        start = indexes[0]\n",
    "        end =  indexes[-1]\n",
    "    else:\n",
    "        start = 0\n",
    "        end = len(encoded_text.ids) - 1\n",
    "    if end >= len(encoded_text.ids):\n",
    "        end = len(encoded_text.ids) - 1\n",
    "    if start>end: \n",
    "        selected_text = test_df.loc[test_idx,'text']\n",
    "    else:\n",
    "        selected_text = decode_tweet(text,start,end,encoded_text.offsets)\n",
    "    return selected_text"
   ]
  },
  {
   "cell_type": "code",
   "execution_count": 35,
   "metadata": {},
   "outputs": [],
   "source": [
    "model=BertForTokenClassification.from_pretrained(os.path.join(base_dir,\"bert_ner_models/Tweet_bert_ner_maxlen128_epoch2_batch8_step80_clip1\"),num_labels=4)\n"
   ]
  },
  {
   "cell_type": "code",
   "execution_count": 36,
   "metadata": {},
   "outputs": [
    {
     "name": "stderr",
     "output_type": "stream",
     "text": [
      "/Users/yuchenxie/miniconda3/lib/python3.7/site-packages/tqdm/std.py:666: FutureWarning: The Panel class is removed from pandas. Accessing it from the top-level namespace will also be removed in the next version\n",
      "  from pandas import Panel\n",
      "100%|██████████| 27480/27480 [36:33<00:00, 12.53it/s] \n"
     ]
    }
   ],
   "source": [
    "tqdm.pandas()\n",
    "train_df[\"bert_ner_predict\"]=train_df.progress_apply(lambda x:bert_ner_pred(x.text,x.sentiment),axis=1)"
   ]
  },
  {
   "cell_type": "markdown",
   "metadata": {},
   "source": [
    "<a id='Part3.2_link'></a>\n",
    "## 3.2 Compute jaccard similarity score for predictions on training datasets"
   ]
  },
  {
   "cell_type": "code",
   "execution_count": 37,
   "metadata": {},
   "outputs": [],
   "source": [
    "def compute_jaccard_similarity(sent1,sent2):\n",
    "    sents1=sent_tokenize(str(sent1).lower().strip())\n",
    "    sents2=sent_tokenize(str(sent2).lower().strip())\n",
    "    a=set()\n",
    "    for sent in sents1:\n",
    "        tokens=sent.split()\n",
    "        a=a.union(set(tokens))\n",
    "    b=set()\n",
    "    for sent in sents2:\n",
    "        tokens=sent.split()\n",
    "        b=b.union(set(tokens))\n",
    "    return len(a.intersection(b))/len(a.union(b))"
   ]
  },
  {
   "cell_type": "code",
   "execution_count": 38,
   "metadata": {},
   "outputs": [],
   "source": [
    "train_df[\"bert_ner_jaccard\"]=train_df.apply(lambda x:compute_jaccard_similarity(x.bert_ner_predict,x.selected_text),axis=1)\n"
   ]
  },
  {
   "cell_type": "code",
   "execution_count": 39,
   "metadata": {},
   "outputs": [
    {
     "data": {
      "text/html": [
       "<div>\n",
       "<style scoped>\n",
       "    .dataframe tbody tr th:only-of-type {\n",
       "        vertical-align: middle;\n",
       "    }\n",
       "\n",
       "    .dataframe tbody tr th {\n",
       "        vertical-align: top;\n",
       "    }\n",
       "\n",
       "    .dataframe thead th {\n",
       "        text-align: right;\n",
       "    }\n",
       "</style>\n",
       "<table border=\"1\" class=\"dataframe\">\n",
       "  <thead>\n",
       "    <tr style=\"text-align: right;\">\n",
       "      <th></th>\n",
       "      <th>textID</th>\n",
       "      <th>text</th>\n",
       "      <th>selected_text</th>\n",
       "      <th>sentiment</th>\n",
       "      <th>target</th>\n",
       "      <th>bert_ner_predict</th>\n",
       "      <th>bert_ner_jaccard</th>\n",
       "    </tr>\n",
       "  </thead>\n",
       "  <tbody>\n",
       "    <tr>\n",
       "      <th>0</th>\n",
       "      <td>cb774db0d1</td>\n",
       "      <td>I`d have responded, if I were going</td>\n",
       "      <td>I`d have responded, if I were going</td>\n",
       "      <td>neutral</td>\n",
       "      <td>[0, 1, 1, 1, 1, 1, 1, 1, 1, 1, 1, 0, 0, 0, 0, ...</td>\n",
       "      <td>I`d have responded, if I were going</td>\n",
       "      <td>1.000000</td>\n",
       "    </tr>\n",
       "    <tr>\n",
       "      <th>1</th>\n",
       "      <td>549e992a42</td>\n",
       "      <td>Sooo SAD I will miss you here in San Diego!!!</td>\n",
       "      <td>Sooo SAD</td>\n",
       "      <td>negative</td>\n",
       "      <td>[0, 3, 3, 3, 0, 0, 0, 0, 0, 0, 0, 0, 0, 0, 0, ...</td>\n",
       "      <td>SAD I will miss</td>\n",
       "      <td>0.200000</td>\n",
       "    </tr>\n",
       "    <tr>\n",
       "      <th>2</th>\n",
       "      <td>088c60f138</td>\n",
       "      <td>my boss is bullying me...</td>\n",
       "      <td>bullying me</td>\n",
       "      <td>negative</td>\n",
       "      <td>[0, 0, 0, 0, 3, 3, 0, 0, 0, 0, 0, 0, 0, 0, 0, ...</td>\n",
       "      <td>bullying me.</td>\n",
       "      <td>0.333333</td>\n",
       "    </tr>\n",
       "    <tr>\n",
       "      <th>3</th>\n",
       "      <td>9642c003ef</td>\n",
       "      <td>what interview! leave me alone</td>\n",
       "      <td>leave me alone</td>\n",
       "      <td>negative</td>\n",
       "      <td>[0, 0, 0, 0, 3, 3, 3, 0, 0, 0, 0, 0, 0, 0, 0, ...</td>\n",
       "      <td>leave me alone</td>\n",
       "      <td>1.000000</td>\n",
       "    </tr>\n",
       "    <tr>\n",
       "      <th>4</th>\n",
       "      <td>358bd9e861</td>\n",
       "      <td>Sons of ****, why couldn`t they put them on t...</td>\n",
       "      <td>Sons of ****,</td>\n",
       "      <td>negative</td>\n",
       "      <td>[0, 3, 3, 3, 3, 3, 3, 3, 0, 0, 0, 0, 0, 0, 0, ...</td>\n",
       "      <td>Sons of ****,</td>\n",
       "      <td>1.000000</td>\n",
       "    </tr>\n",
       "  </tbody>\n",
       "</table>\n",
       "</div>"
      ],
      "text/plain": [
       "       textID                                               text  \\\n",
       "0  cb774db0d1                I`d have responded, if I were going   \n",
       "1  549e992a42      Sooo SAD I will miss you here in San Diego!!!   \n",
       "2  088c60f138                          my boss is bullying me...   \n",
       "3  9642c003ef                     what interview! leave me alone   \n",
       "4  358bd9e861   Sons of ****, why couldn`t they put them on t...   \n",
       "\n",
       "                         selected_text sentiment  \\\n",
       "0  I`d have responded, if I were going   neutral   \n",
       "1                             Sooo SAD  negative   \n",
       "2                          bullying me  negative   \n",
       "3                       leave me alone  negative   \n",
       "4                        Sons of ****,  negative   \n",
       "\n",
       "                                              target  \\\n",
       "0  [0, 1, 1, 1, 1, 1, 1, 1, 1, 1, 1, 0, 0, 0, 0, ...   \n",
       "1  [0, 3, 3, 3, 0, 0, 0, 0, 0, 0, 0, 0, 0, 0, 0, ...   \n",
       "2  [0, 0, 0, 0, 3, 3, 0, 0, 0, 0, 0, 0, 0, 0, 0, ...   \n",
       "3  [0, 0, 0, 0, 3, 3, 3, 0, 0, 0, 0, 0, 0, 0, 0, ...   \n",
       "4  [0, 3, 3, 3, 3, 3, 3, 3, 0, 0, 0, 0, 0, 0, 0, ...   \n",
       "\n",
       "                      bert_ner_predict  bert_ner_jaccard  \n",
       "0  I`d have responded, if I were going          1.000000  \n",
       "1                     SAD I will miss           0.200000  \n",
       "2                         bullying me.          0.333333  \n",
       "3                       leave me alone          1.000000  \n",
       "4                       Sons of ****,           1.000000  "
      ]
     },
     "execution_count": 39,
     "metadata": {},
     "output_type": "execute_result"
    }
   ],
   "source": [
    "train_df.head()"
   ]
  },
  {
   "cell_type": "code",
   "execution_count": 40,
   "metadata": {},
   "outputs": [],
   "source": [
    "train_df.to_csv(os.path.join(base_dir,\"bert_ner_models/train_bert_ner_predict.csv\"),index=False)"
   ]
  },
  {
   "cell_type": "code",
   "execution_count": 41,
   "metadata": {},
   "outputs": [],
   "source": [
    "train_df=pd.read_csv(os.path.join(base_dir,\"bert_ner_models/train_bert_ner_predict.csv\"))"
   ]
  },
  {
   "cell_type": "code",
   "execution_count": 52,
   "metadata": {},
   "outputs": [
    {
     "data": {
      "image/png": "[encoded data removed]",
      "text/plain": [
       "<Figure size 1440x360 with 3 Axes>"
      ]
     },
     "metadata": {
      "needs_background": "light"
     },
     "output_type": "display_data"
    }
   ],
   "source": [
    "fig,axes=plt.subplots(1,3,figsize=(20,5))\n",
    "sentiments=[\"neutral\",\"positive\",\"negative\"]\n",
    "colors=[\"green\",\"red\",\"blue\"]\n",
    "for i in range(3):\n",
    "    sentiment=sentiments[i]\n",
    "    axes[i].hist(train_df[train_df.sentiment==sentiment].bert_ner_jaccard,bins=100,histtype=\"step\",color=colors[i],density=True,label=sentiment,linewidth=2)\n",
    "    axes[i].set_xlabel(\"Jaccard similarity score\",fontsize=16)\n",
    "    axes[i].set_yticks([])\n",
    "    axes[i].set_ylabel(\"Density\",fontsize=16)\n",
    "    axes[i].set_title(sentiment,fontsize=18)\n",
    "    axes[i].legend()\n",
    "fig.suptitle(\"Jaccard similarity for prediction\",fontsize=24)\n",
    "plt.tight_layout()\n",
    "fig.subplots_adjust(top=0.8)"
   ]
  },
  {
   "cell_type": "markdown",
   "metadata": {},
   "source": [
    "<a id='Part4_link'></a>\n",
    "# 4. Prediction on test datasets"
   ]
  },
  {
   "cell_type": "code",
   "execution_count": 43,
   "metadata": {},
   "outputs": [
    {
     "name": "stderr",
     "output_type": "stream",
     "text": [
      "/Users/yuchenxie/miniconda3/lib/python3.7/site-packages/tqdm/std.py:666: FutureWarning: The Panel class is removed from pandas. Accessing it from the top-level namespace will also be removed in the next version\n",
      "  from pandas import Panel\n",
      "100%|██████████| 3534/3534 [04:14<00:00, 13.90it/s]\n"
     ]
    }
   ],
   "source": [
    "tqdm.pandas()\n",
    "test_df[\"bert_ner_predict\"]=test_df.progress_apply(lambda x:bert_ner_pred(x.text,x.sentiment),axis=1)"
   ]
  },
  {
   "cell_type": "code",
   "execution_count": 51,
   "metadata": {},
   "outputs": [],
   "source": [
    "test_df.to_csv(os.path.join(base_dir,\"bert_ner_models/test_bert_ner_predict.csv\"),index=False)"
   ]
  },
  {
   "cell_type": "code",
   "execution_count": null,
   "metadata": {},
   "outputs": [],
   "source": []
  },
  {
   "cell_type": "code",
   "execution_count": null,
   "metadata": {},
   "outputs": [],
   "source": []
  },
  {
   "cell_type": "code",
   "execution_count": null,
   "metadata": {},
   "outputs": [],
   "source": []
  }
 ],
 "metadata": {
  "kernelspec": {
   "display_name": "Python 3",
   "language": "python",
   "name": "python3"
  },
  "language_info": {
   "codemirror_mode": {
    "name": "ipython",
    "version": 3
   },
   "file_extension": ".py",
   "mimetype": "text/x-python",
   "name": "python",
   "nbconvert_exporter": "python",
   "pygments_lexer": "ipython3",
   "version": "3.7.4"
  }
 },
 "nbformat": 4,
 "nbformat_minor": 4
}
