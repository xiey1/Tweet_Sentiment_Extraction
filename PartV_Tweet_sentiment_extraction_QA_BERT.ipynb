{
 "cells": [
  {
   "cell_type": "markdown",
   "metadata": {},
   "source": [
    "# Summary:\n",
    "This notebook will cover applying **Question Answering (QA)** using **BERT** for tweet sentiment extraction."
   ]
  },
  {
   "cell_type": "markdown",
   "metadata": {},
   "source": [
    "# Table of contents\n",
    "* [1. Data preparation](#Part1_link)\n",
    "<br >&nbsp;&nbsp;&nbsp;[1.1 Create examples and features for input data](#Part1.1_link)\n",
    "<br >&nbsp;&nbsp;&nbsp;[1.2 Generate data input for BERT](#Part1.2_link)\n",
    "<br >&nbsp;&nbsp;&nbsp;[1.3 Generate TensorDataset and DataLoader](#Part1.3_link)\n",
    "* [2. Train the Question Answering model](#Part2_link)\n",
    "<br >&nbsp;&nbsp;&nbsp;[2.1 Model training](#Part2.1_link)\n",
    "<br >&nbsp;&nbsp;&nbsp;[2.2 Evaluate training performance](#Part2.2_link)\n",
    "* [3. Model evaluation](#Part3_link)\n",
    "<br >&nbsp;&nbsp;&nbsp;[3.1 Predict extracted text using trained model for training datasets](#Part3.1_link)\n",
    "<br >&nbsp;&nbsp;&nbsp;[3.2 Compute jaccard similarity score for predictions on training datasets](#Part3.2_link)\n",
    "* [4. Prediction on test datasets](#Part4_link)"
   ]
  },
  {
   "cell_type": "code",
   "execution_count": 1,
   "metadata": {},
   "outputs": [],
   "source": [
    "import pandas as pd\n",
    "import numpy as np\n",
    "import os\n",
    "import matplotlib.pyplot as plt\n",
    "%matplotlib inline\n",
    "import seaborn as sns\n",
    "\n",
    "from nltk import sent_tokenize\n",
    "import torch\n",
    "from torch import nn\n",
    "from torch.utils.data import TensorDataset, DataLoader\n",
    "import transformers\n",
    "from transformers import BertTokenizer\n",
    "from transformers import BertModel\n",
    "from transformers import BertForQuestionAnswering\n",
    "from transformers.tokenization_bert import BasicTokenizer\n",
    "from sklearn.model_selection import train_test_split\n",
    "from transformers import AdamW\n",
    "from transformers import get_linear_schedule_with_warmup\n",
    "\n",
    "import collections\n",
    "import math\n",
    "from tqdm import tqdm"
   ]
  },
  {
   "cell_type": "code",
   "execution_count": 2,
   "metadata": {},
   "outputs": [],
   "source": [
    "base_dir=\"/Volumes/Yuchen_Drive/Tweet_Sentiment_Extraction/tweet-sentiment-extraction\""
   ]
  },
  {
   "cell_type": "code",
   "execution_count": 3,
   "metadata": {},
   "outputs": [
    {
     "name": "stdout",
     "output_type": "stream",
     "text": [
      "training set: (27481, 4)\n",
      "testing set: (3534, 3)\n",
      "training set after removing NA: (27480, 4)\n"
     ]
    }
   ],
   "source": [
    "train_df=pd.read_csv(os.path.join(base_dir,\"train.csv\"))\n",
    "test_df=pd.read_csv(os.path.join(base_dir,\"test.csv\"))\n",
    "print(\"training set: {}\".format(train_df.shape))\n",
    "print(\"testing set: {}\".format(test_df.shape))\n",
    "train_df.dropna(inplace=True)\n",
    "print(\"training set after removing NA: {}\".format(train_df.shape))"
   ]
  },
  {
   "cell_type": "code",
   "execution_count": 4,
   "metadata": {},
   "outputs": [
    {
     "data": {
      "text/html": [
       "<div>\n",
       "<style scoped>\n",
       "    .dataframe tbody tr th:only-of-type {\n",
       "        vertical-align: middle;\n",
       "    }\n",
       "\n",
       "    .dataframe tbody tr th {\n",
       "        vertical-align: top;\n",
       "    }\n",
       "\n",
       "    .dataframe thead th {\n",
       "        text-align: right;\n",
       "    }\n",
       "</style>\n",
       "<table border=\"1\" class=\"dataframe\">\n",
       "  <thead>\n",
       "    <tr style=\"text-align: right;\">\n",
       "      <th></th>\n",
       "      <th>textID</th>\n",
       "      <th>text</th>\n",
       "      <th>selected_text</th>\n",
       "      <th>sentiment</th>\n",
       "    </tr>\n",
       "  </thead>\n",
       "  <tbody>\n",
       "    <tr>\n",
       "      <th>0</th>\n",
       "      <td>cb774db0d1</td>\n",
       "      <td>I`d have responded, if I were going</td>\n",
       "      <td>I`d have responded, if I were going</td>\n",
       "      <td>neutral</td>\n",
       "    </tr>\n",
       "    <tr>\n",
       "      <th>1</th>\n",
       "      <td>549e992a42</td>\n",
       "      <td>Sooo SAD I will miss you here in San Diego!!!</td>\n",
       "      <td>Sooo SAD</td>\n",
       "      <td>negative</td>\n",
       "    </tr>\n",
       "    <tr>\n",
       "      <th>2</th>\n",
       "      <td>088c60f138</td>\n",
       "      <td>my boss is bullying me...</td>\n",
       "      <td>bullying me</td>\n",
       "      <td>negative</td>\n",
       "    </tr>\n",
       "    <tr>\n",
       "      <th>3</th>\n",
       "      <td>9642c003ef</td>\n",
       "      <td>what interview! leave me alone</td>\n",
       "      <td>leave me alone</td>\n",
       "      <td>negative</td>\n",
       "    </tr>\n",
       "    <tr>\n",
       "      <th>4</th>\n",
       "      <td>358bd9e861</td>\n",
       "      <td>Sons of ****, why couldn`t they put them on t...</td>\n",
       "      <td>Sons of ****,</td>\n",
       "      <td>negative</td>\n",
       "    </tr>\n",
       "  </tbody>\n",
       "</table>\n",
       "</div>"
      ],
      "text/plain": [
       "       textID                                               text  \\\n",
       "0  cb774db0d1                I`d have responded, if I were going   \n",
       "1  549e992a42      Sooo SAD I will miss you here in San Diego!!!   \n",
       "2  088c60f138                          my boss is bullying me...   \n",
       "3  9642c003ef                     what interview! leave me alone   \n",
       "4  358bd9e861   Sons of ****, why couldn`t they put them on t...   \n",
       "\n",
       "                         selected_text sentiment  \n",
       "0  I`d have responded, if I were going   neutral  \n",
       "1                             Sooo SAD  negative  \n",
       "2                          bullying me  negative  \n",
       "3                       leave me alone  negative  \n",
       "4                        Sons of ****,  negative  "
      ]
     },
     "execution_count": 4,
     "metadata": {},
     "output_type": "execute_result"
    }
   ],
   "source": [
    "train_df.head()"
   ]
  },
  {
   "cell_type": "code",
   "execution_count": 5,
   "metadata": {},
   "outputs": [
    {
     "data": {
      "text/html": [
       "<div>\n",
       "<style scoped>\n",
       "    .dataframe tbody tr th:only-of-type {\n",
       "        vertical-align: middle;\n",
       "    }\n",
       "\n",
       "    .dataframe tbody tr th {\n",
       "        vertical-align: top;\n",
       "    }\n",
       "\n",
       "    .dataframe thead th {\n",
       "        text-align: right;\n",
       "    }\n",
       "</style>\n",
       "<table border=\"1\" class=\"dataframe\">\n",
       "  <thead>\n",
       "    <tr style=\"text-align: right;\">\n",
       "      <th></th>\n",
       "      <th>textID</th>\n",
       "      <th>text</th>\n",
       "      <th>sentiment</th>\n",
       "    </tr>\n",
       "  </thead>\n",
       "  <tbody>\n",
       "    <tr>\n",
       "      <th>0</th>\n",
       "      <td>f87dea47db</td>\n",
       "      <td>Last session of the day  http://twitpic.com/67ezh</td>\n",
       "      <td>neutral</td>\n",
       "    </tr>\n",
       "    <tr>\n",
       "      <th>1</th>\n",
       "      <td>96d74cb729</td>\n",
       "      <td>Shanghai is also really exciting (precisely -...</td>\n",
       "      <td>positive</td>\n",
       "    </tr>\n",
       "    <tr>\n",
       "      <th>2</th>\n",
       "      <td>eee518ae67</td>\n",
       "      <td>Recession hit Veronique Branquinho, she has to...</td>\n",
       "      <td>negative</td>\n",
       "    </tr>\n",
       "    <tr>\n",
       "      <th>3</th>\n",
       "      <td>01082688c6</td>\n",
       "      <td>happy bday!</td>\n",
       "      <td>positive</td>\n",
       "    </tr>\n",
       "    <tr>\n",
       "      <th>4</th>\n",
       "      <td>33987a8ee5</td>\n",
       "      <td>http://twitpic.com/4w75p - I like it!!</td>\n",
       "      <td>positive</td>\n",
       "    </tr>\n",
       "  </tbody>\n",
       "</table>\n",
       "</div>"
      ],
      "text/plain": [
       "       textID                                               text sentiment\n",
       "0  f87dea47db  Last session of the day  http://twitpic.com/67ezh   neutral\n",
       "1  96d74cb729   Shanghai is also really exciting (precisely -...  positive\n",
       "2  eee518ae67  Recession hit Veronique Branquinho, she has to...  negative\n",
       "3  01082688c6                                        happy bday!  positive\n",
       "4  33987a8ee5             http://twitpic.com/4w75p - I like it!!  positive"
      ]
     },
     "execution_count": 5,
     "metadata": {},
     "output_type": "execute_result"
    }
   ],
   "source": [
    "test_df.head()"
   ]
  },
  {
   "cell_type": "markdown",
   "metadata": {},
   "source": [
    "<a id='Part1_link'></a>\n",
    "# 1. Data preparation"
   ]
  },
  {
   "cell_type": "markdown",
   "metadata": {},
   "source": [
    "<a id='Part1.1_link'></a>\n",
    "## 1.1 Create examples and features for input data"
   ]
  },
  {
   "cell_type": "code",
   "execution_count": 6,
   "metadata": {},
   "outputs": [],
   "source": [
    "tokenizer=BertTokenizer.from_pretrained(\"bert-base-uncased\",do_lower_case=True)"
   ]
  },
  {
   "cell_type": "code",
   "execution_count": 7,
   "metadata": {},
   "outputs": [],
   "source": [
    "class SquadExample(object):\n",
    "    \"\"\"\n",
    "    A single training/test example for the Squad dataset.\n",
    "    For examples without an answer, the start and end position are -1.\n",
    "    \"\"\"\n",
    "\n",
    "    def __init__(self,example_id,question_text,context_text,ans_text,doc_tokens,start_position,end_position,unique_id):\n",
    "        self.example_id = example_id\n",
    "        self.question_text = question_text\n",
    "        self.context_text = context_text\n",
    "        self.ans_text=ans_text\n",
    "        self.doc_tokens = doc_tokens\n",
    "        self.start_position=start_position\n",
    "        self.end_position=end_position\n",
    "        self.unique_id = unique_id\n",
    "\n",
    "    def __str__(self):\n",
    "        return self.__repr__()\n",
    "\n",
    "    def __repr__(self):\n",
    "        s = \"\"\n",
    "        s += \", question_text: %s\" % (self.question_text)\n",
    "        s += \", doc_tokens: [%s]\" % (\" \".join(self.doc_tokens))\n",
    "        \n",
    "        return s"
   ]
  },
  {
   "cell_type": "code",
   "execution_count": 8,
   "metadata": {},
   "outputs": [],
   "source": [
    "def read_paragraphs(data_df,is_training=True):\n",
    "    '''\n",
    "    Convert input to tokens and returns example object\n",
    "    '''    \n",
    "    def is_whitespace(c):\n",
    "        if c == \" \" or c == \"\\t\" or c == \"\\r\" or c == \"\\n\" or ord(c) == 0x202F:\n",
    "            return True\n",
    "        return False\n",
    "    i = 0\n",
    "    examples = []\n",
    "    for idx,entry in data_df.iterrows():\n",
    "        context_text=entry[\"text\"]\n",
    "        if is_training:\n",
    "            ans_text=entry[\"selected_text\"]\n",
    "            start_position_character=context_text.find(ans_text)\n",
    "        else:\n",
    "            ans_text=None\n",
    "        doc_tokens = []\n",
    "        char_to_word_offset = []\n",
    "        prev_is_whitespace = True\n",
    "        for c in context_text:\n",
    "            if is_whitespace(c):\n",
    "                prev_is_whitespace = True\n",
    "            else:\n",
    "                if prev_is_whitespace:\n",
    "                    doc_tokens.append(c)\n",
    "                else:\n",
    "                    doc_tokens[-1] += c\n",
    "                prev_is_whitespace = False\n",
    "            char_to_word_offset.append(len(doc_tokens) - 1)\n",
    "        if is_training:\n",
    "            start_position = char_to_word_offset[start_position_character]\n",
    "            end_position=char_to_word_offset[min(start_position_character+len(ans_text)-1, len(char_to_word_offset)-1)]\n",
    "        else:\n",
    "            start_position=0\n",
    "            end_position=0\n",
    "        example = SquadExample(example_id=entry[\"textID\"],              \n",
    "                               question_text=entry[\"sentiment\"],\n",
    "                               context_text=entry[\"text\"],\n",
    "                               ans_text=ans_text,\n",
    "                               doc_tokens=doc_tokens,\n",
    "                               start_position=start_position,\n",
    "                               end_position=end_position,\n",
    "                               unique_id = i)\n",
    "        i+=1\n",
    "        examples.append(example)\n",
    "\n",
    "    return examples"
   ]
  },
  {
   "cell_type": "code",
   "execution_count": 9,
   "metadata": {},
   "outputs": [],
   "source": [
    "class InputFeatures(object):\n",
    "    \"\"\"A single set of features of data.\"\"\"\n",
    "\n",
    "    def __init__(self,\n",
    "                 input_ids,\n",
    "                 attention_mask,\n",
    "                 token_type_ids,\n",
    "                 start_position,\n",
    "                 end_position,\n",
    "                 tokens,\n",
    "                 token_is_max_context,\n",
    "                 token_to_orig_map,\n",
    "                 unique_id,\n",
    "                 example_index):\n",
    " \n",
    "        self.input_ids = input_ids\n",
    "        self.attention_mask = attention_mask\n",
    "        self.token_type_ids=token_type_ids\n",
    "        self.start_position=start_position\n",
    "        self.end_position=end_position\n",
    "        self.tokens = tokens\n",
    "        self.token_is_max_context = token_is_max_context\n",
    "        self.token_to_orig_map = token_to_orig_map\n",
    "        self.unique_id = unique_id\n",
    "        self.example_index = example_index"
   ]
  },
  {
   "cell_type": "code",
   "execution_count": 10,
   "metadata": {},
   "outputs": [],
   "source": [
    "def _improve_answer_span(doc_tokens, input_start, input_end, tokenizer, orig_answer_text):\n",
    "    \"\"\"Returns tokenized answer spans that better match the annotated answer.\"\"\"\n",
    "    tok_answer_text = \" \".join(tokenizer.tokenize(orig_answer_text))\n",
    "\n",
    "    for new_start in range(input_start, input_end + 1):\n",
    "        for new_end in range(input_end, new_start - 1, -1):\n",
    "            text_span = \" \".join(doc_tokens[new_start : (new_end + 1)])\n",
    "            if text_span == tok_answer_text:\n",
    "                return (new_start, new_end)\n",
    "\n",
    "    return (input_start, input_end)"
   ]
  },
  {
   "cell_type": "code",
   "execution_count": 11,
   "metadata": {},
   "outputs": [],
   "source": [
    "def _new_check_is_max_context(doc_spans, cur_span_index, position):\n",
    "    \"\"\"Check if this is the 'max context' doc span for the token.\"\"\"\n",
    "    # if len(doc_spans) == 1:\n",
    "    # return True\n",
    "    best_score = None\n",
    "    best_span_index = None\n",
    "    for (span_index, doc_span) in enumerate(doc_spans):\n",
    "        end = doc_span[\"start\"] + doc_span[\"length\"] - 1\n",
    "        if position < doc_span[\"start\"]:\n",
    "            continue\n",
    "        if position > end:\n",
    "            continue\n",
    "        num_left_context = position - doc_span[\"start\"]\n",
    "        num_right_context = end - position\n",
    "        score = min(num_left_context, num_right_context) + 0.01 * doc_span[\"length\"]\n",
    "        if best_score is None or score > best_score:\n",
    "            best_score = score\n",
    "            best_span_index = span_index\n",
    "\n",
    "    return cur_span_index == best_span_index"
   ]
  },
  {
   "cell_type": "code",
   "execution_count": 12,
   "metadata": {},
   "outputs": [],
   "source": [
    "def convert_examples_to_features(examples,tokenizer,max_seq_length,doc_stride,max_query_length,is_training=True):\n",
    "    \"\"\"Loads a data file into a list of `InputBatch`s.\"\"\"\n",
    "\n",
    "    features = []\n",
    "    for (unique_id, example) in enumerate(examples):\n",
    "        query_tokens = tokenizer.tokenize(example.question_text)\n",
    "        ### Truncate the query if query length > max_query_length..\n",
    "        if len(query_tokens) > max_query_length:\n",
    "            query_tokens = query_tokens[0:max_query_length]\n",
    "\n",
    "        tok_to_orig_index = []\n",
    "        orig_to_tok_index = []\n",
    "        all_doc_tokens = []\n",
    "        for (i, token) in enumerate(example.doc_tokens):\n",
    "            orig_to_tok_index.append(len(all_doc_tokens))\n",
    "            sub_tokens = tokenizer.tokenize(token)\n",
    "            for sub_token in sub_tokens:\n",
    "                tok_to_orig_index.append(i)\n",
    "                all_doc_tokens.append(sub_token)\n",
    "        \n",
    "        if is_training:\n",
    "            tok_start_position = orig_to_tok_index[example.start_position]\n",
    "            if example.end_position < len(example.doc_tokens) - 1:\n",
    "                tok_end_position = orig_to_tok_index[example.end_position + 1] - 1\n",
    "            else:\n",
    "                tok_end_position = len(all_doc_tokens) - 1\n",
    "            (tok_start_position, tok_end_position) = _improve_answer_span(\n",
    "                all_doc_tokens, tok_start_position, tok_end_position, tokenizer, example.ans_text\n",
    "            )\n",
    "        \n",
    "        spans = []\n",
    "        truncated_query = tokenizer.encode(example.question_text, add_special_tokens=False, max_length=max_query_length)\n",
    "        sequence_added_tokens = (\n",
    "        tokenizer.max_len - tokenizer.max_len_single_sentence + 1\n",
    "        if \"roberta\" in str(type(tokenizer)) or \"camembert\" in str(type(tokenizer))\n",
    "        else tokenizer.max_len - tokenizer.max_len_single_sentence\n",
    "        )\n",
    "        sequence_pair_added_tokens = tokenizer.max_len - tokenizer.max_len_sentences_pair\n",
    "        span_doc_tokens = all_doc_tokens\n",
    "        while len(spans) * doc_stride < len(all_doc_tokens):\n",
    "            encoded_dict = tokenizer.encode_plus(truncated_query if tokenizer.padding_side == \"right\" else span_doc_tokens,\n",
    "                                                 span_doc_tokens if tokenizer.padding_side == \"right\" else truncated_query,\n",
    "                                                 max_length=max_seq_length,\n",
    "                                                 return_overflowing_tokens=True,\n",
    "                                                 pad_to_max_length=True,\n",
    "                                                 stride=max_seq_length - doc_stride - len(truncated_query) - sequence_pair_added_tokens,\n",
    "                                                 truncation_strategy=\"only_second\" if tokenizer.padding_side == \"right\" else \"only_first\",\n",
    "                                                 return_token_type_ids=True,)\n",
    "            paragraph_len = min(\n",
    "            len(all_doc_tokens) - len(spans) * doc_stride,\n",
    "            max_seq_length - len(truncated_query) - sequence_pair_added_tokens)\n",
    "            \n",
    "            if tokenizer.pad_token_id in encoded_dict[\"input_ids\"]:\n",
    "                if tokenizer.padding_side == \"right\":\n",
    "                    non_padded_ids = encoded_dict[\"input_ids\"][: encoded_dict[\"input_ids\"].index(tokenizer.pad_token_id)]\n",
    "                else:\n",
    "                    last_padding_id_position = (len(encoded_dict[\"input_ids\"]) - 1 - encoded_dict[\"input_ids\"][::-1].index(tokenizer.pad_token_id))\n",
    "                    non_padded_ids = encoded_dict[\"input_ids\"][last_padding_id_position + 1 :]\n",
    "\n",
    "            else:\n",
    "                non_padded_ids = encoded_dict[\"input_ids\"]\n",
    "            \n",
    "            tokens = tokenizer.convert_ids_to_tokens(non_padded_ids)\n",
    "            token_to_orig_map = {}\n",
    "            for i in range(paragraph_len):\n",
    "                index = len(truncated_query) + sequence_added_tokens + i if tokenizer.padding_side == \"right\" else i\n",
    "                token_to_orig_map[index] = tok_to_orig_index[len(spans) * doc_stride + i]\n",
    "            \n",
    "            encoded_dict[\"paragraph_len\"] = paragraph_len\n",
    "            encoded_dict[\"tokens\"] = tokens\n",
    "            encoded_dict[\"token_to_orig_map\"] = token_to_orig_map\n",
    "            encoded_dict[\"truncated_query_with_special_tokens_length\"] = len(truncated_query) + sequence_added_tokens\n",
    "            encoded_dict[\"token_is_max_context\"] = {}\n",
    "            encoded_dict[\"start\"] = len(spans) * doc_stride\n",
    "            encoded_dict[\"length\"] = paragraph_len\n",
    "            \n",
    "            spans.append(encoded_dict)\n",
    "            \n",
    "            if \"overflowing_tokens\" not in encoded_dict:\n",
    "                break\n",
    "            span_doc_tokens = encoded_dict[\"overflowing_tokens\"]\n",
    "        \n",
    "        for doc_span_index in range(len(spans)):\n",
    "            for j in range(spans[doc_span_index][\"paragraph_len\"]):\n",
    "                is_max_context = _new_check_is_max_context(spans, doc_span_index, doc_span_index * doc_stride + j)\n",
    "                index = (\n",
    "                    j\n",
    "                    if tokenizer.padding_side == \"left\"\n",
    "                    else spans[doc_span_index][\"truncated_query_with_special_tokens_length\"] + j\n",
    "                )\n",
    "                spans[doc_span_index][\"token_is_max_context\"][index] = is_max_context\n",
    "        \n",
    "        for span in spans:\n",
    "            cls_index = span[\"input_ids\"].index(tokenizer.cls_token_id)\n",
    "            p_mask = np.ones_like(span[\"token_type_ids\"])\n",
    "            if tokenizer.padding_side == \"right\":\n",
    "                p_mask[len(truncated_query) + sequence_added_tokens :] = 0\n",
    "            else:\n",
    "                p_mask[-len(span[\"tokens\"]) : -(len(truncated_query) + sequence_added_tokens)] = 0\n",
    "            \n",
    "            pad_token_indices = np.where(span[\"input_ids\"] == tokenizer.pad_token_id)\n",
    "            special_token_indices = np.asarray(\n",
    "                tokenizer.get_special_tokens_mask(span[\"input_ids\"], already_has_special_tokens=True)\n",
    "            ).nonzero()\n",
    "            \n",
    "            p_mask[pad_token_indices] = 1\n",
    "            p_mask[special_token_indices] = 1\n",
    "            \n",
    "            p_mask[cls_index] = 0\n",
    "            start_position = 0\n",
    "            end_position = 0\n",
    "            if is_training:\n",
    "                doc_start = span[\"start\"]\n",
    "                doc_end = span[\"start\"] + span[\"length\"] - 1\n",
    "                out_of_span = False\n",
    "                \n",
    "                if not (tok_start_position >= doc_start and tok_end_position <= doc_end):\n",
    "                    out_of_span = True\n",
    "            \n",
    "                if out_of_span:\n",
    "                    start_position = cls_index\n",
    "                    end_position = cls_index\n",
    "                    span_is_impossible = True\n",
    "                else:\n",
    "                    if tokenizer.padding_side == \"left\":\n",
    "                        doc_offset = 0\n",
    "                    else:\n",
    "                        doc_offset = len(truncated_query) + sequence_added_tokens\n",
    "                \n",
    "                    start_position = tok_start_position - doc_start + doc_offset\n",
    "                    end_position = tok_end_position - doc_start + doc_offset\n",
    "        \n",
    "        \n",
    "            features.append(InputFeatures(input_ids=span[\"input_ids\"],\n",
    "                                          attention_mask=span[\"attention_mask\"],\n",
    "                                          token_type_ids=span[\"token_type_ids\"],\n",
    "                                          start_position=start_position,\n",
    "                                          end_position=end_position,\n",
    "                                          tokens=span[\"tokens\"],   \n",
    "                                          token_is_max_context=span[\"token_is_max_context\"],\n",
    "                                          token_to_orig_map=span[\"token_to_orig_map\"],\n",
    "                                          unique_id = unique_id,\n",
    "                                          example_index = example.example_id))\n",
    "    \n",
    "    return features"
   ]
  },
  {
   "cell_type": "code",
   "execution_count": 14,
   "metadata": {},
   "outputs": [],
   "source": [
    "## Create examples for input data\n",
    "examples=read_paragraphs(train_df)"
   ]
  },
  {
   "cell_type": "code",
   "execution_count": 15,
   "metadata": {},
   "outputs": [
    {
     "name": "stdout",
     "output_type": "stream",
     "text": [
      "27480\n"
     ]
    }
   ],
   "source": [
    "print(len(examples))\n",
    "example=examples[1]"
   ]
  },
  {
   "cell_type": "code",
   "execution_count": 16,
   "metadata": {},
   "outputs": [
    {
     "name": "stdout",
     "output_type": "stream",
     "text": [
      "549e992a42\n",
      "negative\n",
      " Sooo SAD I will miss you here in San Diego!!!\n",
      "Sooo SAD\n",
      "['Sooo', 'SAD', 'I', 'will', 'miss', 'you', 'here', 'in', 'San', 'Diego!!!']\n",
      "0\n",
      "1\n",
      "1\n"
     ]
    }
   ],
   "source": [
    "print(example.example_id)\n",
    "print(example.question_text)\n",
    "print(example.context_text)\n",
    "print(example.ans_text)\n",
    "print(example.doc_tokens)\n",
    "print(example.start_position)\n",
    "print(example.end_position)\n",
    "print(example.unique_id)"
   ]
  },
  {
   "cell_type": "code",
   "execution_count": 17,
   "metadata": {},
   "outputs": [],
   "source": [
    "## Create features for input data\n",
    "features=convert_examples_to_features(examples,tokenizer,max_seq_length=128,doc_stride=1,max_query_length=10,is_training=True)\n"
   ]
  },
  {
   "cell_type": "code",
   "execution_count": 18,
   "metadata": {},
   "outputs": [],
   "source": [
    "feature=features[1]"
   ]
  },
  {
   "cell_type": "code",
   "execution_count": 19,
   "metadata": {},
   "outputs": [
    {
     "name": "stdout",
     "output_type": "stream",
     "text": [
      "[101, 4997, 102, 17111, 2080, 6517, 1045, 2097, 3335, 2017, 2182, 1999, 2624, 5277, 999, 999, 999, 102, 0, 0, 0, 0, 0, 0, 0, 0, 0, 0, 0, 0, 0, 0, 0, 0, 0, 0, 0, 0, 0, 0, 0, 0, 0, 0, 0, 0, 0, 0, 0, 0, 0, 0, 0, 0, 0, 0, 0, 0, 0, 0, 0, 0, 0, 0, 0, 0, 0, 0, 0, 0, 0, 0, 0, 0, 0, 0, 0, 0, 0, 0, 0, 0, 0, 0, 0, 0, 0, 0, 0, 0, 0, 0, 0, 0, 0, 0, 0, 0, 0, 0, 0, 0, 0, 0, 0, 0, 0, 0, 0, 0, 0, 0, 0, 0, 0, 0, 0, 0, 0, 0, 0, 0, 0, 0, 0, 0, 0, 0]\n",
      "[1, 1, 1, 1, 1, 1, 1, 1, 1, 1, 1, 1, 1, 1, 1, 1, 1, 1, 0, 0, 0, 0, 0, 0, 0, 0, 0, 0, 0, 0, 0, 0, 0, 0, 0, 0, 0, 0, 0, 0, 0, 0, 0, 0, 0, 0, 0, 0, 0, 0, 0, 0, 0, 0, 0, 0, 0, 0, 0, 0, 0, 0, 0, 0, 0, 0, 0, 0, 0, 0, 0, 0, 0, 0, 0, 0, 0, 0, 0, 0, 0, 0, 0, 0, 0, 0, 0, 0, 0, 0, 0, 0, 0, 0, 0, 0, 0, 0, 0, 0, 0, 0, 0, 0, 0, 0, 0, 0, 0, 0, 0, 0, 0, 0, 0, 0, 0, 0, 0, 0, 0, 0, 0, 0, 0, 0, 0, 0]\n",
      "[0, 0, 0, 1, 1, 1, 1, 1, 1, 1, 1, 1, 1, 1, 1, 1, 1, 1, 0, 0, 0, 0, 0, 0, 0, 0, 0, 0, 0, 0, 0, 0, 0, 0, 0, 0, 0, 0, 0, 0, 0, 0, 0, 0, 0, 0, 0, 0, 0, 0, 0, 0, 0, 0, 0, 0, 0, 0, 0, 0, 0, 0, 0, 0, 0, 0, 0, 0, 0, 0, 0, 0, 0, 0, 0, 0, 0, 0, 0, 0, 0, 0, 0, 0, 0, 0, 0, 0, 0, 0, 0, 0, 0, 0, 0, 0, 0, 0, 0, 0, 0, 0, 0, 0, 0, 0, 0, 0, 0, 0, 0, 0, 0, 0, 0, 0, 0, 0, 0, 0, 0, 0, 0, 0, 0, 0, 0, 0]\n",
      "3\n",
      "5\n",
      "['[CLS]', 'negative', '[SEP]', 'soo', '##o', 'sad', 'i', 'will', 'miss', 'you', 'here', 'in', 'san', 'diego', '!', '!', '!', '[SEP]']\n",
      "{3: True, 4: True, 5: True, 6: True, 7: True, 8: True, 9: True, 10: True, 11: True, 12: True, 13: True, 14: True, 15: True, 16: True}\n",
      "{3: 0, 4: 0, 5: 1, 6: 2, 7: 3, 8: 4, 9: 5, 10: 6, 11: 7, 12: 8, 13: 9, 14: 9, 15: 9, 16: 9}\n",
      "1\n",
      "549e992a42\n"
     ]
    }
   ],
   "source": [
    "print(feature.input_ids)\n",
    "print(feature.attention_mask)\n",
    "print(feature.token_type_ids)\n",
    "print(feature.start_position)\n",
    "print(feature.end_position)\n",
    "print(feature.tokens)\n",
    "print(feature.token_is_max_context)\n",
    "print(feature.token_to_orig_map)\n",
    "print(feature.unique_id)\n",
    "print(feature.example_index)"
   ]
  },
  {
   "cell_type": "markdown",
   "metadata": {},
   "source": [
    "<a id='Part1.2_link'></a>\n",
    "## 1.2 Generate data input for BERT"
   ]
  },
  {
   "cell_type": "code",
   "execution_count": 20,
   "metadata": {},
   "outputs": [],
   "source": [
    "def bert_qa_input(features):\n",
    "    '''\n",
    "    Questions correspond to sentiment,\n",
    "    contexts correspond to text,\n",
    "    answers correspond to selected_text\n",
    "    '''\n",
    "    input_ids=[]\n",
    "    token_type_ids=[]\n",
    "    attention_masks=[]\n",
    "    start_positions=[]\n",
    "    end_positions=[]\n",
    "    \n",
    "    for feature in features:\n",
    "        input_ids.append(torch.tensor(feature.input_ids).reshape(1,-1))\n",
    "        token_type_ids.append(torch.tensor(feature.token_type_ids).reshape(1,-1))\n",
    "        attention_masks.append(torch.tensor(feature.attention_mask).reshape(1,-1))\n",
    "        start_positions.append(feature.start_position)\n",
    "        end_positions.append(feature.end_position)\n",
    "        \n",
    "    input_ids=torch.cat(input_ids,dim=0)\n",
    "    token_type_ids=torch.cat(token_type_ids,dim=0)\n",
    "    attention_masks=torch.cat(attention_masks,dim=0)\n",
    "    start_positions=torch.tensor(start_positions).reshape(-1,1)\n",
    "    end_positions=torch.tensor(end_positions).reshape(-1,1)\n",
    "    \n",
    "    return input_ids,token_type_ids,attention_masks,start_positions,end_positions"
   ]
  },
  {
   "cell_type": "code",
   "execution_count": 21,
   "metadata": {},
   "outputs": [],
   "source": [
    "train_set,val_set=train_test_split(train_df,train_size=0.8,stratify=train_df.sentiment)"
   ]
  },
  {
   "cell_type": "code",
   "execution_count": 22,
   "metadata": {},
   "outputs": [
    {
     "name": "stdout",
     "output_type": "stream",
     "text": [
      "Number of samples in training set: 21984\n",
      "Number of samples in validation set: 5496\n"
     ]
    }
   ],
   "source": [
    "print(\"Number of samples in training set: {}\".format(train_set.shape[0]))\n",
    "print(\"Number of samples in validation set: {}\".format(val_set.shape[0]))"
   ]
  },
  {
   "cell_type": "code",
   "execution_count": 23,
   "metadata": {},
   "outputs": [],
   "source": [
    "## Create examples for training and validation data\n",
    "train_examples=read_paragraphs(train_set)\n",
    "val_examples=read_paragraphs(val_set)"
   ]
  },
  {
   "cell_type": "code",
   "execution_count": 24,
   "metadata": {},
   "outputs": [],
   "source": [
    "## Create features for training and validation data\n",
    "train_features=convert_examples_to_features(train_examples,tokenizer,max_seq_length=128,doc_stride=1,max_query_length=10)\n",
    "val_features=convert_examples_to_features(val_examples,tokenizer,max_seq_length=128,doc_stride=1,max_query_length=10)"
   ]
  },
  {
   "cell_type": "code",
   "execution_count": 25,
   "metadata": {},
   "outputs": [],
   "source": [
    "## Create data input for BERT\n",
    "train_input_ids,train_token_type_ids,train_attention_masks,train_start_positions,train_end_positions=bert_qa_input(train_features)\n",
    "val_input_ids,val_token_type_ids,val_attention_masks,val_start_positions,val_end_positions=bert_qa_input(val_features)\n"
   ]
  },
  {
   "cell_type": "code",
   "execution_count": 26,
   "metadata": {},
   "outputs": [
    {
     "name": "stdout",
     "output_type": "stream",
     "text": [
      "torch.Size([21984, 128])\n",
      "torch.Size([21984, 128])\n",
      "torch.Size([21984, 128])\n",
      "torch.Size([21984, 1])\n",
      "torch.Size([21984, 1])\n",
      "torch.Size([5496, 128])\n",
      "torch.Size([5496, 128])\n",
      "torch.Size([5496, 128])\n",
      "torch.Size([5496, 1])\n",
      "torch.Size([5496, 1])\n"
     ]
    }
   ],
   "source": [
    "print(train_input_ids.shape)\n",
    "print(train_token_type_ids.shape)\n",
    "print(train_attention_masks.shape)\n",
    "print(train_start_positions.shape)\n",
    "print(train_end_positions.shape)\n",
    "\n",
    "print(val_input_ids.shape)\n",
    "print(val_token_type_ids.shape)\n",
    "print(val_attention_masks.shape)\n",
    "print(val_start_positions.shape)\n",
    "print(val_end_positions.shape)"
   ]
  },
  {
   "cell_type": "markdown",
   "metadata": {},
   "source": [
    "<a id='Part1.3_link'></a>\n",
    "## 1.3 Generate TensorDataset and DataLoader"
   ]
  },
  {
   "cell_type": "code",
   "execution_count": 27,
   "metadata": {},
   "outputs": [],
   "source": [
    "train_data=TensorDataset(train_input_ids,train_token_type_ids,train_attention_masks,train_start_positions,train_end_positions)\n",
    "val_data=TensorDataset(val_input_ids,val_token_type_ids,val_attention_masks,val_start_positions,val_end_positions)\n"
   ]
  },
  {
   "cell_type": "code",
   "execution_count": 28,
   "metadata": {},
   "outputs": [],
   "source": [
    "# BATCH_SIZE=128\n",
    "BATCH_SIZE=8\n",
    "train_loader=DataLoader(train_data,shuffle=True,batch_size=BATCH_SIZE)\n",
    "val_loader=DataLoader(val_data,shuffle=True,batch_size=BATCH_SIZE)\n"
   ]
  },
  {
   "cell_type": "code",
   "execution_count": 29,
   "metadata": {},
   "outputs": [
    {
     "name": "stdout",
     "output_type": "stream",
     "text": [
      "torch.Size([8, 128])\n",
      "torch.Size([8, 128])\n",
      "torch.Size([8, 128])\n",
      "torch.Size([8, 1])\n",
      "torch.Size([8, 1])\n"
     ]
    }
   ],
   "source": [
    "input_ids,token_type_ids,attention_masks,start_positions,end_positions=next(iter(train_loader))\n",
    "print(input_ids.shape)\n",
    "print(token_type_ids.shape)\n",
    "print(attention_masks.shape)\n",
    "print(start_positions.shape)\n",
    "print(end_positions.shape)"
   ]
  },
  {
   "cell_type": "code",
   "execution_count": 30,
   "metadata": {},
   "outputs": [],
   "source": [
    "model=BertForQuestionAnswering.from_pretrained(\"bert-large-uncased-whole-word-masking-finetuned-squad\")"
   ]
  },
  {
   "cell_type": "code",
   "execution_count": 32,
   "metadata": {},
   "outputs": [],
   "source": [
    "with torch.no_grad():\n",
    "    loss,start_scores,end_scores=model(input_ids,\n",
    "                                       token_type_ids=token_type_ids,\n",
    "                                       attention_mask=attention_masks,\n",
    "                                       start_positions=start_positions,\n",
    "                                       end_positions=end_positions)"
   ]
  },
  {
   "cell_type": "code",
   "execution_count": 33,
   "metadata": {},
   "outputs": [
    {
     "name": "stdout",
     "output_type": "stream",
     "text": [
      "tensor(2.8430)\n",
      "torch.Size([8, 128])\n",
      "torch.Size([8, 128])\n"
     ]
    }
   ],
   "source": [
    "print(loss)\n",
    "print(start_scores.shape)\n",
    "print(end_scores.shape)"
   ]
  },
  {
   "cell_type": "markdown",
   "metadata": {},
   "source": [
    "<a id='Part2_link'></a>\n",
    "# 2. Train the Question Answering model"
   ]
  },
  {
   "cell_type": "markdown",
   "metadata": {},
   "source": [
    "<a id='Part2.1_link'></a>\n",
    "## 2.1 Model training"
   ]
  },
  {
   "cell_type": "code",
   "execution_count": 34,
   "metadata": {},
   "outputs": [],
   "source": [
    "def compute_jaccard_similarity_bert(input_id,start_pred,end_pred,start_position,end_position,device):\n",
    "    if device.type == 'cpu':\n",
    "        pred=input_id[start_pred:end_pred+1].numpy()\n",
    "        ans=input_id[start_position:end_position+1].numpy()\n",
    "    else:\n",
    "        pred=input_id[start_pred:end_pred+1].cpu().numpy()\n",
    "        ans=input_id[start_position:end_position+1].cpu().numpy()\n",
    "    return len(set(pred).intersection(set(ans)))/len(set(pred).union(set(ans)))"
   ]
  },
  {
   "cell_type": "code",
   "execution_count": 35,
   "metadata": {},
   "outputs": [],
   "source": [
    "def bert_qa_train(n_epochs,model,train_loader,val_loader,optimizer,scheduler,device,save_path,batch_size,step_size,clip=1.0):\n",
    "    step_dict={}\n",
    "    model=model.to(device)\n",
    "    step=1\n",
    "    step_dict[1]={}\n",
    "    valid_loss_min = np.Inf\n",
    "\n",
    "    for epoch in np.arange(n_epochs):\n",
    "        train_loss = 0.0\n",
    "        train_jaccard = []\n",
    "        val_loss = 0.0\n",
    "        val_jaccard = []\n",
    "        # Training\n",
    "        model.train()\n",
    "        for i,batch in enumerate(train_loader):\n",
    "            optimizer.zero_grad()\n",
    "            input_ids,token_type_ids,attention_masks,start_positions,end_positions=batch[0].to(device),batch[1].to(device),batch[2].to(device),batch[3].to(device),batch[4].to(device)\n",
    "            loss,start_scores,end_scores=model(input_ids,\n",
    "                                               token_type_ids=token_type_ids,\n",
    "                                               attention_mask=attention_masks,\n",
    "                                               start_positions=start_positions,\n",
    "                                               end_positions=end_positions)\n",
    "            train_loss += loss.item()*input_ids.shape[0]\n",
    "            loss.backward()\n",
    "            torch.nn.utils.clip_grad_norm_(model.parameters(), clip)\n",
    "            optimizer.step()\n",
    "            scheduler.step()\n",
    "            ## Update pred jaccard similarity for the training process\n",
    "            start_preds=torch.argmax(start_scores,dim=1)\n",
    "            end_preds=torch.argmax(end_scores,dim=1)\n",
    "            for j in range(input_ids.shape[0]):\n",
    "                input_id=input_ids[j]\n",
    "                jaccard_score=compute_jaccard_similarity_bert(input_id,\n",
    "                                                              start_preds[j],\n",
    "                                                              end_preds[j],\n",
    "                                                              start_positions[j],\n",
    "                                                              end_positions[j],\n",
    "                                                              device)\n",
    "                train_jaccard.append(jaccard_score)\n",
    "            \n",
    "            if (i+1)%step_size==0:\n",
    "                ## validation\n",
    "                with torch.no_grad():\n",
    "                    model.eval()\n",
    "                    for batch in val_loader:\n",
    "                        input_ids,token_type_ids,attention_masks,start_positions,end_positions=batch[0].to(device),batch[1].to(device),batch[2].to(device),batch[3].to(device),batch[4].to(device)\n",
    "                        loss,start_scores,end_scores=model(input_ids,\n",
    "                                                           token_type_ids=token_type_ids,\n",
    "                                                           attention_mask=attention_masks,\n",
    "                                                           start_positions=start_positions,\n",
    "                                                           end_positions=end_positions)\n",
    "                        ## Update loss and pred jaccard similarity for the validation process\n",
    "                        val_loss += loss.item()*input_ids.shape[0]\n",
    "                        start_preds=torch.argmax(start_scores,dim=1)\n",
    "                        end_preds=torch.argmax(end_scores,dim=1)\n",
    "                        for j in range(input_ids.shape[0]):\n",
    "                            input_id=input_ids[j]\n",
    "                            jaccard_score=compute_jaccard_similarity_bert(input_id,\n",
    "                                                                          start_preds[j],\n",
    "                                                                          end_preds[j],\n",
    "                                                                          start_positions[j],\n",
    "                                                                          end_positions[j],\n",
    "                                                                          device)\n",
    "                            val_jaccard.append(jaccard_score)\n",
    "                        \n",
    "                    ### write training/validation loss/accuracy\n",
    "                    step_dict[step][\"Train_Loss\"]=train_loss/(step_size*batch_size)\n",
    "                    step_dict[step][\"Train_jaccard_sim\"]=sum(train_jaccard)/len(train_jaccard)\n",
    "                    step_dict[step][\"Val_Loss\"]=val_loss/len(val_loader.sampler)\n",
    "                    step_dict[step][\"Val_jaccard_sim\"]=sum(val_jaccard)/len(val_jaccard)\n",
    "\n",
    "                    print(\"Step: {}.. \".format(step),\n",
    "                          \"Train Loss: {:.3f}.. \".format(step_dict[step][\"Train_Loss\"]),\n",
    "                          \"Train jaccard similarity: {:.3f}.. \".format(step_dict[step][\"Train_jaccard_sim\"]),\n",
    "                          \"Validation Loss: {:.3f}.. \".format(step_dict[step][\"Val_Loss\"]),\n",
    "                          \"Validation jaccard similarity: {:.3f}.. \".format(step_dict[step][\"Val_jaccard_sim\"]))\n",
    "\n",
    "                    ## save the model with the lowest val_loss and update valid_loss_min\n",
    "                    if val_loss <= valid_loss_min:\n",
    "                        print('Validation loss decreased -- Saving model -- \\n')\n",
    "                        model_to_save = model.module if hasattr(model, 'module') else model  # Take care of distributed/parallel training\n",
    "                        model_to_save.save_pretrained(save_path)\n",
    "                        #torch.save(model.state_dict(), save_path)\n",
    "                        valid_loss_min = val_loss\n",
    "                    \n",
    "                    step+=1\n",
    "                    step_dict[step]={}\n",
    "                    train_loss = 0.0\n",
    "                    train_jaccard = []\n",
    "                    val_loss = 0.0\n",
    "                    val_jaccard = []\n",
    "        \n",
    "    step_df=pd.DataFrame.from_dict(step_dict,orient=\"index\")\n",
    "    step_df[\"step\"]=step_df.index\n",
    "    return model,step_df"
   ]
  },
  {
   "cell_type": "code",
   "execution_count": 36,
   "metadata": {},
   "outputs": [],
   "source": [
    "model=BertForQuestionAnswering.from_pretrained(\"bert-large-uncased-whole-word-masking-finetuned-squad\")\n",
    "\n",
    "device = torch.device('cuda:0' if torch.cuda.is_available() else 'cpu')\n",
    "\n",
    "optimizer = AdamW(model.parameters(),\n",
    "                  lr = 2e-5, # args.learning_rate - default is 5e-5, our notebook had 2e-5\n",
    "                  eps = 1e-8 # args.adam_epsilon  - default is 1e-8.\n",
    "                )\n",
    "\n",
    "n_epochs=2\n",
    "total_steps = len(train_loader)*n_epochs\n",
    "scheduler = get_linear_schedule_with_warmup(optimizer, \n",
    "                                            num_warmup_steps = 0, # Default value in run_glue.py\n",
    "                                            num_training_steps = total_steps)"
   ]
  },
  {
   "cell_type": "code",
   "execution_count": null,
   "metadata": {},
   "outputs": [],
   "source": [
    "save_path=os.path.join(base_dir,\"bert_qa_models/Tweet_bert_qa_maxlen128_epoch2_batch8_step80_clip1\")\n",
    "model,step_df=bert_qa_train(n_epochs,model,train_loader,val_loader,optimizer,scheduler,device,save_path,batch_size=BATCH_SIZE,step_size=40,clip=1.0)\n",
    "step_df.to_csv(os.path.join(base_dir,\"bert_qa_models/Tweet_bert_qa_maxlen128_epoch2_batch8_step80_clip1.csv\"),index=False)"
   ]
  },
  {
   "cell_type": "markdown",
   "metadata": {},
   "source": [
    "<a id='Part2.2_link'></a>\n",
    "## 2.2 Evaluate training performance"
   ]
  },
  {
   "cell_type": "code",
   "execution_count": 37,
   "metadata": {},
   "outputs": [],
   "source": [
    "step_df=pd.read_csv(os.path.join(base_dir,\"bert_qa_models/Tweet_bert_qa_maxlen128_epoch2_batch8_step80_clip1.csv\"))"
   ]
  },
  {
   "cell_type": "code",
   "execution_count": 38,
   "metadata": {},
   "outputs": [
    {
     "data": {
      "text/html": [
       "<div>\n",
       "<style scoped>\n",
       "    .dataframe tbody tr th:only-of-type {\n",
       "        vertical-align: middle;\n",
       "    }\n",
       "\n",
       "    .dataframe tbody tr th {\n",
       "        vertical-align: top;\n",
       "    }\n",
       "\n",
       "    .dataframe thead th {\n",
       "        text-align: right;\n",
       "    }\n",
       "</style>\n",
       "<table border=\"1\" class=\"dataframe\">\n",
       "  <thead>\n",
       "    <tr style=\"text-align: right;\">\n",
       "      <th></th>\n",
       "      <th>Train_Loss</th>\n",
       "      <th>Train_jaccard_sim</th>\n",
       "      <th>Val_Loss</th>\n",
       "      <th>Val_jaccard_sim</th>\n",
       "      <th>step</th>\n",
       "    </tr>\n",
       "  </thead>\n",
       "  <tbody>\n",
       "    <tr>\n",
       "      <th>0</th>\n",
       "      <td>1.479006</td>\n",
       "      <td>0.602667</td>\n",
       "      <td>1.300942</td>\n",
       "      <td>0.663455</td>\n",
       "      <td>1</td>\n",
       "    </tr>\n",
       "    <tr>\n",
       "      <th>1</th>\n",
       "      <td>1.234814</td>\n",
       "      <td>0.655239</td>\n",
       "      <td>1.215362</td>\n",
       "      <td>0.677037</td>\n",
       "      <td>2</td>\n",
       "    </tr>\n",
       "    <tr>\n",
       "      <th>2</th>\n",
       "      <td>1.183782</td>\n",
       "      <td>0.652627</td>\n",
       "      <td>1.163653</td>\n",
       "      <td>0.676620</td>\n",
       "      <td>3</td>\n",
       "    </tr>\n",
       "    <tr>\n",
       "      <th>3</th>\n",
       "      <td>1.104611</td>\n",
       "      <td>0.668781</td>\n",
       "      <td>1.179850</td>\n",
       "      <td>0.697346</td>\n",
       "      <td>4</td>\n",
       "    </tr>\n",
       "    <tr>\n",
       "      <th>4</th>\n",
       "      <td>1.126127</td>\n",
       "      <td>0.673996</td>\n",
       "      <td>1.107867</td>\n",
       "      <td>0.683901</td>\n",
       "      <td>5</td>\n",
       "    </tr>\n",
       "  </tbody>\n",
       "</table>\n",
       "</div>"
      ],
      "text/plain": [
       "   Train_Loss  Train_jaccard_sim  Val_Loss  Val_jaccard_sim  step\n",
       "0    1.479006           0.602667  1.300942         0.663455     1\n",
       "1    1.234814           0.655239  1.215362         0.677037     2\n",
       "2    1.183782           0.652627  1.163653         0.676620     3\n",
       "3    1.104611           0.668781  1.179850         0.697346     4\n",
       "4    1.126127           0.673996  1.107867         0.683901     5"
      ]
     },
     "execution_count": 38,
     "metadata": {},
     "output_type": "execute_result"
    }
   ],
   "source": [
    "step_df.head()"
   ]
  },
  {
   "cell_type": "code",
   "execution_count": 40,
   "metadata": {},
   "outputs": [
    {
     "data": {
      "image/png": "[encoded data removed]",
      "text/plain": [
       "<Figure size 864x360 with 2 Axes>"
      ]
     },
     "metadata": {
      "needs_background": "light"
     },
     "output_type": "display_data"
    }
   ],
   "source": [
    "fig,axes=plt.subplots(1,2,figsize=(12,5))\n",
    "axes[0].plot(step_df.step,step_df.Train_Loss,label=\"Training loss\")\n",
    "axes[0].plot(step_df.step,step_df.Val_Loss,label=\"Validation loss\")\n",
    "axes[0].set_xlabel(\"Step\",fontsize=16)\n",
    "axes[0].set_ylabel(\"Loss\",fontsize=16)\n",
    "axes[0].set_title(\"Training and validation loss\",fontsize=18)\n",
    "\n",
    "axes[1].plot(step_df.step,step_df.Train_jaccard_sim,label=\"Training jaccard similarity\")\n",
    "axes[1].plot(step_df.step,step_df.Val_jaccard_sim,label=\"Validation jaccard similarity\")\n",
    "axes[1].set_xlabel(\"Step\",fontsize=16)\n",
    "axes[1].set_ylabel(\"Jaccard similarity\",fontsize=16)\n",
    "axes[1].set_title(\"Training and validation jaccard similarity\",fontsize=18)\n",
    "plt.tight_layout()"
   ]
  },
  {
   "cell_type": "markdown",
   "metadata": {},
   "source": [
    "<a id='Part3_link'></a>\n",
    "# 3. Model evaluation"
   ]
  },
  {
   "cell_type": "markdown",
   "metadata": {},
   "source": [
    "<a id='Part3.1_link'></a>\n",
    "## 3.1 Predict extracted text using trained model for training datasets"
   ]
  },
  {
   "cell_type": "code",
   "execution_count": 41,
   "metadata": {},
   "outputs": [],
   "source": [
    "def _get_best_indexes(logits, n_best_size):\n",
    "    \"\"\"Get the n-best logits from a list.\"\"\"\n",
    "    index_and_score = sorted(enumerate(logits), key=lambda x: x[1], reverse=True)\n",
    "    best_indexes = []\n",
    "    for i in range(len(index_and_score)):\n",
    "        if i >= n_best_size:\n",
    "            break\n",
    "        best_indexes.append(index_and_score[i][0])\n",
    "   \n",
    "    return best_indexes"
   ]
  },
  {
   "cell_type": "code",
   "execution_count": 42,
   "metadata": {},
   "outputs": [],
   "source": [
    "def _compute_softmax(scores):\n",
    "    \"\"\"Compute softmax probability over raw logits.\"\"\"\n",
    "    if not scores:\n",
    "        return []\n",
    "\n",
    "    max_score = None\n",
    "    for score in scores:\n",
    "        if max_score is None or score > max_score:\n",
    "            max_score = score\n",
    "\n",
    "    exp_scores = []\n",
    "    total_sum = 0.0\n",
    "    for score in scores:\n",
    "        x = math.exp(score - max_score)\n",
    "        exp_scores.append(x)\n",
    "        total_sum += x\n",
    "\n",
    "    probs = []\n",
    "    for score in exp_scores:\n",
    "        probs.append(score / total_sum)\n",
    "    return probs"
   ]
  },
  {
   "cell_type": "code",
   "execution_count": 43,
   "metadata": {},
   "outputs": [],
   "source": [
    "def get_final_text(pred_text, orig_text, do_lower_case, verbose_logging=False):\n",
    "    \"\"\"Project the tokenized prediction back to the original text.\"\"\"\n",
    "\n",
    "    def _strip_spaces(text):\n",
    "        ns_chars = []\n",
    "        ns_to_s_map = collections.OrderedDict()\n",
    "        for (i, c) in enumerate(text):\n",
    "            if c == \" \":\n",
    "                continue\n",
    "            ns_to_s_map[len(ns_chars)] = i\n",
    "            ns_chars.append(c)\n",
    "        ns_text = \"\".join(ns_chars)\n",
    "        return (ns_text, ns_to_s_map)\n",
    "\n",
    "    \n",
    "    tokenizer = BasicTokenizer(do_lower_case=do_lower_case)\n",
    "\n",
    "    tok_text = \" \".join(tokenizer.tokenize(orig_text))\n",
    "\n",
    "    start_position = tok_text.find(pred_text)\n",
    "    if start_position == -1:\n",
    "        if verbose_logging:\n",
    "            logger.info(\n",
    "                \"Unable to find text: '%s' in '%s'\" % (pred_text, orig_text))\n",
    "        return orig_text\n",
    "    end_position = start_position + len(pred_text) - 1\n",
    "\n",
    "    (orig_ns_text, orig_ns_to_s_map) = _strip_spaces(orig_text)\n",
    "    (tok_ns_text, tok_ns_to_s_map) = _strip_spaces(tok_text)\n",
    "\n",
    "    if len(orig_ns_text) != len(tok_ns_text):\n",
    "        if verbose_logging:\n",
    "            logger.info(\"Length not equal after stripping spaces: '%s' vs '%s'\",\n",
    "                        orig_ns_text, tok_ns_text)\n",
    "        return orig_text\n",
    "\n",
    "    # We then project the characters in `pred_text` back to `orig_text` using\n",
    "    # the character-to-character alignment.\n",
    "    tok_s_to_ns_map = {}\n",
    "    for (i, tok_index) in tok_ns_to_s_map.items():\n",
    "        tok_s_to_ns_map[tok_index] = i\n",
    "\n",
    "    orig_start_position = None\n",
    "    if start_position in tok_s_to_ns_map:\n",
    "        ns_start_position = tok_s_to_ns_map[start_position]\n",
    "        if ns_start_position in orig_ns_to_s_map:\n",
    "            orig_start_position = orig_ns_to_s_map[ns_start_position]\n",
    "\n",
    "    if orig_start_position is None:\n",
    "        if verbose_logging:\n",
    "            logger.info(\"Couldn't map start position\")\n",
    "        return orig_text\n",
    "\n",
    "    orig_end_position = None\n",
    "    if end_position in tok_s_to_ns_map:\n",
    "        ns_end_position = tok_s_to_ns_map[end_position]\n",
    "        if ns_end_position in orig_ns_to_s_map:\n",
    "            orig_end_position = orig_ns_to_s_map[ns_end_position]\n",
    "\n",
    "    if orig_end_position is None:\n",
    "        if verbose_logging:\n",
    "            logger.info(\"Couldn't map end position\")\n",
    "        return orig_text\n",
    "\n",
    "    output_text = orig_text[orig_start_position:(orig_end_position + 1)]\n",
    "    return output_text"
   ]
  },
  {
   "cell_type": "code",
   "execution_count": 44,
   "metadata": {},
   "outputs": [],
   "source": [
    "def bert_qa_pred(feature,example,model,n_best_size,max_answer_length):\n",
    "    \n",
    "    test_input_ids,test_token_type_ids,test_attention_masks,test_start_positions,test_end_positions=bert_qa_input([feature])\n",
    "    with torch.no_grad():\n",
    "        model.eval()\n",
    "        start_scores,end_scores=model(test_input_ids,\n",
    "                                      token_type_ids=test_token_type_ids,\n",
    "                                      attention_mask=test_attention_masks)    \n",
    "    \n",
    "    prelim_predictions = []\n",
    "    start_indexes=_get_best_indexes(start_scores.squeeze(),10)\n",
    "    end_indexes=_get_best_indexes(end_scores.squeeze(),10)\n",
    "\n",
    "    _PrelimPrediction = collections.namedtuple(  # pylint: disable=invalid-name\n",
    "        \"PrelimPrediction\",[\"example_index\", \"start_index\", \"end_index\", \"start_logit\", \"end_logit\"])\n",
    "\n",
    "    for start_index in start_indexes:\n",
    "        for end_index in end_indexes:\n",
    "            #### we remove the indexes which are invalid @\n",
    "            if start_index >= len(feature.tokens):\n",
    "                continue\n",
    "            if end_index >= len(feature.tokens):\n",
    "                continue\n",
    "            if start_index not in feature.token_to_orig_map:\n",
    "                continue\n",
    "            if end_index not in feature.token_to_orig_map:\n",
    "                continue\n",
    "            if not feature.token_is_max_context.get(start_index, False):\n",
    "                continue\n",
    "            if end_index < start_index:\n",
    "                continue\n",
    "            length = end_index - start_index + 1\n",
    "            if length > max_answer_length:\n",
    "                continue\n",
    "\n",
    "            prelim_predictions.append(\n",
    "                _PrelimPrediction(\n",
    "                    example_index=feature.example_index,\n",
    "                    start_index=start_index,\n",
    "                    end_index=end_index,\n",
    "                    start_logit=start_scores.squeeze()[start_index],\n",
    "                    end_logit=end_scores.squeeze()[end_index]))\n",
    "\n",
    "    prelim_predictions = sorted(\n",
    "        prelim_predictions,\n",
    "        key=lambda x: (x.start_logit + x.end_logit),\n",
    "        reverse=True)\n",
    "    \n",
    "    \n",
    "    _NbestPrediction = collections.namedtuple(  # pylint: disable=invalid-name\n",
    "    \"NbestPrediction\", [\"text\", \"start_logit\", \"end_logit\"])\n",
    "\n",
    "    seen_predictions = {}\n",
    "    nbest = []\n",
    "    for pred in prelim_predictions:\n",
    "        if len(nbest) >= n_best_size:\n",
    "            break\n",
    "    \n",
    "        if pred.start_index > 0:\n",
    "            tok_tokens = feature.tokens[pred.start_index:(pred.end_index + 1)]\n",
    "            orig_doc_start = feature.token_to_orig_map[pred.start_index]\n",
    "            orig_doc_end = feature.token_to_orig_map[pred.end_index]\n",
    "            orig_tokens = example.doc_tokens[orig_doc_start:(orig_doc_end + 1)]\n",
    "            tok_text = tokenizer.convert_tokens_to_string(tok_tokens)\n",
    "    \n",
    "            # Clean whitespace\n",
    "            tok_text = tok_text.strip()\n",
    "            tok_text = \" \".join(tok_text.split())\n",
    "            orig_text = \" \".join(orig_tokens)\n",
    "            \n",
    "            final_text = get_final_text(tok_text, orig_text, True)\n",
    "            if final_text in seen_predictions:\n",
    "                continue\n",
    "            \n",
    "            seen_predictions[final_text] = True\n",
    "        else:\n",
    "            final_text = \"\"\n",
    "            seen_predictions[final_text] = True\n",
    "    \n",
    "        nbest.append(_NbestPrediction(\n",
    "            text=final_text,\n",
    "            start_logit=pred.start_logit,\n",
    "            end_logit=pred.end_logit))\n",
    "\n",
    "    if not nbest:\n",
    "        nbest.append(_NbestPrediction(text=\"empty\", start_logit=0.0, end_logit=0.0))\n",
    "    assert len(nbest) >= 1\n",
    "    \n",
    "    \n",
    "    total_scores = []\n",
    "    best_non_null_entry = None\n",
    "    for entry in nbest:\n",
    "        total_scores.append(entry.start_logit + entry.end_logit)\n",
    "        if not best_non_null_entry:\n",
    "            if entry.text:\n",
    "                best_non_null_entry = entry\n",
    "    probs = _compute_softmax(total_scores)\n",
    "    nbest_json = []\n",
    "    for (i, entry) in enumerate(nbest):\n",
    "        output = collections.OrderedDict()\n",
    "        output[\"text\"] = entry.text\n",
    "        output[\"probability\"] = probs[i]\n",
    "        output[\"start_logit\"] = entry.start_logit.item()\n",
    "        output[\"end_logit\"] = entry.end_logit.item()\n",
    "        nbest_json.append(output)\n",
    "    \n",
    "    assert len(nbest_json) >= 1\n",
    "    all_predictions[feature.example_index].append(nbest_json[0][\"text\"])\n",
    "    all_predictions[feature.example_index].append(nbest_json[0][\"probability\"])\n",
    "    pred_df=pd.DataFrame(nbest_json)\n",
    "    \n",
    "    return pred_df"
   ]
  },
  {
   "cell_type": "code",
   "execution_count": 51,
   "metadata": {},
   "outputs": [],
   "source": [
    "model = BertForQuestionAnswering.from_pretrained(os.path.join(base_dir,\"bert_qa_models/Tweet_bert_qa_maxlen128_epoch2_batch8_step80_clip1\"))\n"
   ]
  },
  {
   "cell_type": "code",
   "execution_count": 52,
   "metadata": {},
   "outputs": [],
   "source": [
    "train_examples=read_paragraphs(train_df,is_training=False)\n",
    "train_features=convert_examples_to_features(train_examples,tokenizer,max_seq_length=128,doc_stride=1,max_query_length=10,is_training=False)\n"
   ]
  },
  {
   "cell_type": "code",
   "execution_count": 53,
   "metadata": {},
   "outputs": [
    {
     "name": "stdout",
     "output_type": "stream",
     "text": [
      "27480\n",
      "27480\n"
     ]
    }
   ],
   "source": [
    "print(len(train_examples))\n",
    "print(len(train_features))"
   ]
  },
  {
   "cell_type": "code",
   "execution_count": 317,
   "metadata": {},
   "outputs": [
    {
     "name": "stderr",
     "output_type": "stream",
     "text": [
      "100%|██████████| 27480/27480 [6:43:32<00:00,  1.13it/s]  \n"
     ]
    }
   ],
   "source": [
    "all_predictions = collections.defaultdict(list)\n",
    "for i in tqdm(range(len(train_features))):\n",
    "    feature=train_features[i]\n",
    "    example=train_examples[i]\n",
    "    bert_qa_pred(feature,example,model,n_best_size=10,max_answer_length=64)"
   ]
  },
  {
   "cell_type": "code",
   "execution_count": 318,
   "metadata": {},
   "outputs": [
    {
     "name": "stdout",
     "output_type": "stream",
     "text": [
      "(27480, 6)\n"
     ]
    },
    {
     "data": {
      "text/html": [
       "<div>\n",
       "<style scoped>\n",
       "    .dataframe tbody tr th:only-of-type {\n",
       "        vertical-align: middle;\n",
       "    }\n",
       "\n",
       "    .dataframe tbody tr th {\n",
       "        vertical-align: top;\n",
       "    }\n",
       "\n",
       "    .dataframe thead th {\n",
       "        text-align: right;\n",
       "    }\n",
       "</style>\n",
       "<table border=\"1\" class=\"dataframe\">\n",
       "  <thead>\n",
       "    <tr style=\"text-align: right;\">\n",
       "      <th></th>\n",
       "      <th>textID</th>\n",
       "      <th>bert_qa_predict</th>\n",
       "      <th>probability</th>\n",
       "      <th>text</th>\n",
       "      <th>selected_text</th>\n",
       "      <th>sentiment</th>\n",
       "    </tr>\n",
       "  </thead>\n",
       "  <tbody>\n",
       "    <tr>\n",
       "      <th>0</th>\n",
       "      <td>cb774db0d1</td>\n",
       "      <td>I`d have responded, if I were going</td>\n",
       "      <td>0.984853</td>\n",
       "      <td>I`d have responded, if I were going</td>\n",
       "      <td>I`d have responded, if I were going</td>\n",
       "      <td>neutral</td>\n",
       "    </tr>\n",
       "    <tr>\n",
       "      <th>1</th>\n",
       "      <td>549e992a42</td>\n",
       "      <td>SAD</td>\n",
       "      <td>0.380390</td>\n",
       "      <td>Sooo SAD I will miss you here in San Diego!!!</td>\n",
       "      <td>Sooo SAD</td>\n",
       "      <td>negative</td>\n",
       "    </tr>\n",
       "    <tr>\n",
       "      <th>2</th>\n",
       "      <td>088c60f138</td>\n",
       "      <td>bullying me...</td>\n",
       "      <td>0.301934</td>\n",
       "      <td>my boss is bullying me...</td>\n",
       "      <td>bullying me</td>\n",
       "      <td>negative</td>\n",
       "    </tr>\n",
       "    <tr>\n",
       "      <th>3</th>\n",
       "      <td>9642c003ef</td>\n",
       "      <td>leave me alone</td>\n",
       "      <td>0.680899</td>\n",
       "      <td>what interview! leave me alone</td>\n",
       "      <td>leave me alone</td>\n",
       "      <td>negative</td>\n",
       "    </tr>\n",
       "    <tr>\n",
       "      <th>4</th>\n",
       "      <td>358bd9e861</td>\n",
       "      <td>Sons of ****,</td>\n",
       "      <td>0.324223</td>\n",
       "      <td>Sons of ****, why couldn`t they put them on t...</td>\n",
       "      <td>Sons of ****,</td>\n",
       "      <td>negative</td>\n",
       "    </tr>\n",
       "  </tbody>\n",
       "</table>\n",
       "</div>"
      ],
      "text/plain": [
       "       textID                      bert_qa_predict  probability  \\\n",
       "0  cb774db0d1  I`d have responded, if I were going     0.984853   \n",
       "1  549e992a42                                  SAD     0.380390   \n",
       "2  088c60f138                       bullying me...     0.301934   \n",
       "3  9642c003ef                       leave me alone     0.680899   \n",
       "4  358bd9e861                        Sons of ****,     0.324223   \n",
       "\n",
       "                                                text  \\\n",
       "0                I`d have responded, if I were going   \n",
       "1      Sooo SAD I will miss you here in San Diego!!!   \n",
       "2                          my boss is bullying me...   \n",
       "3                     what interview! leave me alone   \n",
       "4   Sons of ****, why couldn`t they put them on t...   \n",
       "\n",
       "                         selected_text sentiment  \n",
       "0  I`d have responded, if I were going   neutral  \n",
       "1                             Sooo SAD  negative  \n",
       "2                          bullying me  negative  \n",
       "3                       leave me alone  negative  \n",
       "4                        Sons of ****,  negative  "
      ]
     },
     "execution_count": 318,
     "metadata": {},
     "output_type": "execute_result"
    }
   ],
   "source": [
    "preds_df=pd.DataFrame.from_dict(all_predictions,orient=\"index\",columns=[\"bert_qa_predict\",\"probability\"])\n",
    "preds_df.index.name=\"textID\"\n",
    "preds_df.reset_index(inplace=True)\n",
    "preds_df=preds_df.merge(train_df,left_on=\"textID\",right_on=\"textID\")\n",
    "print(preds_df.shape)\n",
    "preds_df.head()"
   ]
  },
  {
   "cell_type": "markdown",
   "metadata": {},
   "source": [
    "<a id='Part3.2_link'></a>\n",
    "## 3.2 Compute jaccard similarity score for predictions on training datasets"
   ]
  },
  {
   "cell_type": "code",
   "execution_count": 45,
   "metadata": {},
   "outputs": [],
   "source": [
    "def compute_jaccard_similarity(sent1,sent2):\n",
    "    sents1=sent_tokenize(str(sent1).lower().strip())\n",
    "    sents2=sent_tokenize(str(sent2).lower().strip())\n",
    "    a=set()\n",
    "    for sent in sents1:\n",
    "        tokens=sent.split()\n",
    "        a=a.union(set(tokens))\n",
    "    b=set()\n",
    "    for sent in sents2:\n",
    "        tokens=sent.split()\n",
    "        b=b.union(set(tokens))\n",
    "    return len(a.intersection(b))/len(a.union(b))"
   ]
  },
  {
   "cell_type": "code",
   "execution_count": 324,
   "metadata": {},
   "outputs": [
    {
     "data": {
      "text/html": [
       "<div>\n",
       "<style scoped>\n",
       "    .dataframe tbody tr th:only-of-type {\n",
       "        vertical-align: middle;\n",
       "    }\n",
       "\n",
       "    .dataframe tbody tr th {\n",
       "        vertical-align: top;\n",
       "    }\n",
       "\n",
       "    .dataframe thead th {\n",
       "        text-align: right;\n",
       "    }\n",
       "</style>\n",
       "<table border=\"1\" class=\"dataframe\">\n",
       "  <thead>\n",
       "    <tr style=\"text-align: right;\">\n",
       "      <th></th>\n",
       "      <th>textID</th>\n",
       "      <th>bert_qa_predict</th>\n",
       "      <th>probability</th>\n",
       "      <th>text</th>\n",
       "      <th>selected_text</th>\n",
       "      <th>sentiment</th>\n",
       "      <th>bert_qa_jaccard</th>\n",
       "    </tr>\n",
       "  </thead>\n",
       "  <tbody>\n",
       "    <tr>\n",
       "      <th>0</th>\n",
       "      <td>cb774db0d1</td>\n",
       "      <td>I`d have responded, if I were going</td>\n",
       "      <td>0.984853</td>\n",
       "      <td>I`d have responded, if I were going</td>\n",
       "      <td>I`d have responded, if I were going</td>\n",
       "      <td>neutral</td>\n",
       "      <td>1.000000</td>\n",
       "    </tr>\n",
       "    <tr>\n",
       "      <th>1</th>\n",
       "      <td>549e992a42</td>\n",
       "      <td>SAD</td>\n",
       "      <td>0.380390</td>\n",
       "      <td>Sooo SAD I will miss you here in San Diego!!!</td>\n",
       "      <td>Sooo SAD</td>\n",
       "      <td>negative</td>\n",
       "      <td>0.500000</td>\n",
       "    </tr>\n",
       "    <tr>\n",
       "      <th>2</th>\n",
       "      <td>088c60f138</td>\n",
       "      <td>bullying me...</td>\n",
       "      <td>0.301934</td>\n",
       "      <td>my boss is bullying me...</td>\n",
       "      <td>bullying me</td>\n",
       "      <td>negative</td>\n",
       "      <td>0.333333</td>\n",
       "    </tr>\n",
       "    <tr>\n",
       "      <th>3</th>\n",
       "      <td>9642c003ef</td>\n",
       "      <td>leave me alone</td>\n",
       "      <td>0.680899</td>\n",
       "      <td>what interview! leave me alone</td>\n",
       "      <td>leave me alone</td>\n",
       "      <td>negative</td>\n",
       "      <td>1.000000</td>\n",
       "    </tr>\n",
       "    <tr>\n",
       "      <th>4</th>\n",
       "      <td>358bd9e861</td>\n",
       "      <td>Sons of ****,</td>\n",
       "      <td>0.324223</td>\n",
       "      <td>Sons of ****, why couldn`t they put them on t...</td>\n",
       "      <td>Sons of ****,</td>\n",
       "      <td>negative</td>\n",
       "      <td>1.000000</td>\n",
       "    </tr>\n",
       "  </tbody>\n",
       "</table>\n",
       "</div>"
      ],
      "text/plain": [
       "       textID                      bert_qa_predict  probability  \\\n",
       "0  cb774db0d1  I`d have responded, if I were going     0.984853   \n",
       "1  549e992a42                                  SAD     0.380390   \n",
       "2  088c60f138                       bullying me...     0.301934   \n",
       "3  9642c003ef                       leave me alone     0.680899   \n",
       "4  358bd9e861                        Sons of ****,     0.324223   \n",
       "\n",
       "                                                text  \\\n",
       "0                I`d have responded, if I were going   \n",
       "1      Sooo SAD I will miss you here in San Diego!!!   \n",
       "2                          my boss is bullying me...   \n",
       "3                     what interview! leave me alone   \n",
       "4   Sons of ****, why couldn`t they put them on t...   \n",
       "\n",
       "                         selected_text sentiment  bert_qa_jaccard  \n",
       "0  I`d have responded, if I were going   neutral         1.000000  \n",
       "1                             Sooo SAD  negative         0.500000  \n",
       "2                          bullying me  negative         0.333333  \n",
       "3                       leave me alone  negative         1.000000  \n",
       "4                        Sons of ****,  negative         1.000000  "
      ]
     },
     "execution_count": 324,
     "metadata": {},
     "output_type": "execute_result"
    }
   ],
   "source": [
    "preds_df[\"bert_qa_jaccard\"]=preds_df.apply(lambda x:compute_jaccard_similarity(x.bert_qa_predict,x.selected_text),axis=1)\n",
    "preds_df.head()"
   ]
  },
  {
   "cell_type": "code",
   "execution_count": 327,
   "metadata": {},
   "outputs": [],
   "source": [
    "preds_df.to_csv(os.path.join(base_dir,\"bert_qa_models/train_bert_qa_predict.csv\"),index=False)"
   ]
  },
  {
   "cell_type": "code",
   "execution_count": 47,
   "metadata": {},
   "outputs": [],
   "source": [
    "preds_df=pd.read_csv(os.path.join(base_dir,\"bert_qa_models/train_bert_qa_predict.csv\"))"
   ]
  },
  {
   "cell_type": "code",
   "execution_count": 55,
   "metadata": {},
   "outputs": [
    {
     "data": {
      "image/png": "[encoded data removed]",
      "text/plain": [
       "<Figure size 1440x360 with 3 Axes>"
      ]
     },
     "metadata": {
      "needs_background": "light"
     },
     "output_type": "display_data"
    }
   ],
   "source": [
    "fig,axes=plt.subplots(1,3,figsize=(20,5))\n",
    "sentiments=[\"neutral\",\"positive\",\"negative\"]\n",
    "colors=[\"green\",\"red\",\"blue\"]\n",
    "for i in range(3):\n",
    "    sentiment=sentiments[i]\n",
    "    axes[i].hist(preds_df[preds_df.sentiment==sentiment].bert_qa_jaccard,bins=100,histtype=\"step\",color=colors[i],density=True,label=sentiment,linewidth=2)\n",
    "    axes[i].set_xlabel(\"Jaccard similarity score\",fontsize=16)\n",
    "    axes[i].set_yticks([])\n",
    "    axes[i].set_ylabel(\"Density\",fontsize=16)\n",
    "    axes[i].set_title(sentiment,fontsize=18)\n",
    "    axes[i].legend()\n",
    "fig.suptitle(\"Jaccard similarity for prediction\",fontsize=24)\n",
    "plt.tight_layout()\n",
    "fig.subplots_adjust(top=0.8)"
   ]
  },
  {
   "cell_type": "markdown",
   "metadata": {},
   "source": [
    "<a id='Part4_link'></a>\n",
    "# 4. Prediction on test datasets"
   ]
  },
  {
   "cell_type": "code",
   "execution_count": 50,
   "metadata": {},
   "outputs": [],
   "source": [
    "test_examples=read_paragraphs(test_df,is_training=False)\n",
    "test_features=convert_examples_to_features(test_examples,tokenizer,max_seq_length=128,doc_stride=1,max_query_length=10,is_training=False)\n"
   ]
  },
  {
   "cell_type": "code",
   "execution_count": 226,
   "metadata": {},
   "outputs": [],
   "source": [
    "model = BertForQuestionAnswering.from_pretrained(os.path.join(base_dir,\"bert_qa_models/Tweet_bert_qa_maxlen128_epoch2_batch8_step80_clip1\"))\n"
   ]
  },
  {
   "cell_type": "code",
   "execution_count": 283,
   "metadata": {},
   "outputs": [
    {
     "name": "stderr",
     "output_type": "stream",
     "text": [
      "100%|██████████| 3534/3534 [48:58<00:00,  1.20it/s]\n"
     ]
    }
   ],
   "source": [
    "all_predictions = collections.defaultdict(list)\n",
    "for i in tqdm(range(len(test_features))):\n",
    "    feature=test_features[i]\n",
    "    example=test_examples[i]\n",
    "    bert_qa_pred(feature,example,model,n_best_size=10,max_answer_length=64)"
   ]
  },
  {
   "cell_type": "code",
   "execution_count": 311,
   "metadata": {},
   "outputs": [],
   "source": [
    "preds_df=pd.DataFrame.from_dict(all_predictions,orient=\"index\",columns=[\"bert_qa_predict\",\"probability\"])\n",
    "preds_df.index.name=\"textID\"\n",
    "preds_df.reset_index(inplace=True)"
   ]
  },
  {
   "cell_type": "code",
   "execution_count": 312,
   "metadata": {},
   "outputs": [
    {
     "name": "stdout",
     "output_type": "stream",
     "text": [
      "(3534, 3)\n"
     ]
    },
    {
     "data": {
      "text/html": [
       "<div>\n",
       "<style scoped>\n",
       "    .dataframe tbody tr th:only-of-type {\n",
       "        vertical-align: middle;\n",
       "    }\n",
       "\n",
       "    .dataframe tbody tr th {\n",
       "        vertical-align: top;\n",
       "    }\n",
       "\n",
       "    .dataframe thead th {\n",
       "        text-align: right;\n",
       "    }\n",
       "</style>\n",
       "<table border=\"1\" class=\"dataframe\">\n",
       "  <thead>\n",
       "    <tr style=\"text-align: right;\">\n",
       "      <th></th>\n",
       "      <th>textID</th>\n",
       "      <th>bert_qa_predict</th>\n",
       "      <th>probability</th>\n",
       "    </tr>\n",
       "  </thead>\n",
       "  <tbody>\n",
       "    <tr>\n",
       "      <th>0</th>\n",
       "      <td>f87dea47db</td>\n",
       "      <td>Last session of the day</td>\n",
       "      <td>0.509039</td>\n",
       "    </tr>\n",
       "    <tr>\n",
       "      <th>1</th>\n",
       "      <td>96d74cb729</td>\n",
       "      <td>Good</td>\n",
       "      <td>0.174342</td>\n",
       "    </tr>\n",
       "    <tr>\n",
       "      <th>2</th>\n",
       "      <td>eee518ae67</td>\n",
       "      <td>Recession hit Veronique Branquinho, she has to...</td>\n",
       "      <td>0.360804</td>\n",
       "    </tr>\n",
       "    <tr>\n",
       "      <th>3</th>\n",
       "      <td>01082688c6</td>\n",
       "      <td>happy</td>\n",
       "      <td>0.502207</td>\n",
       "    </tr>\n",
       "    <tr>\n",
       "      <th>4</th>\n",
       "      <td>33987a8ee5</td>\n",
       "      <td>I like it!!</td>\n",
       "      <td>0.311933</td>\n",
       "    </tr>\n",
       "  </tbody>\n",
       "</table>\n",
       "</div>"
      ],
      "text/plain": [
       "       textID                                    bert_qa_predict  probability\n",
       "0  f87dea47db                            Last session of the day     0.509039\n",
       "1  96d74cb729                                               Good     0.174342\n",
       "2  eee518ae67  Recession hit Veronique Branquinho, she has to...     0.360804\n",
       "3  01082688c6                                              happy     0.502207\n",
       "4  33987a8ee5                                        I like it!!     0.311933"
      ]
     },
     "execution_count": 312,
     "metadata": {},
     "output_type": "execute_result"
    }
   ],
   "source": [
    "print(preds_df.shape)\n",
    "preds_df.head()"
   ]
  },
  {
   "cell_type": "code",
   "execution_count": 313,
   "metadata": {},
   "outputs": [
    {
     "name": "stdout",
     "output_type": "stream",
     "text": [
      "(3534, 5)\n"
     ]
    },
    {
     "data": {
      "text/html": [
       "<div>\n",
       "<style scoped>\n",
       "    .dataframe tbody tr th:only-of-type {\n",
       "        vertical-align: middle;\n",
       "    }\n",
       "\n",
       "    .dataframe tbody tr th {\n",
       "        vertical-align: top;\n",
       "    }\n",
       "\n",
       "    .dataframe thead th {\n",
       "        text-align: right;\n",
       "    }\n",
       "</style>\n",
       "<table border=\"1\" class=\"dataframe\">\n",
       "  <thead>\n",
       "    <tr style=\"text-align: right;\">\n",
       "      <th></th>\n",
       "      <th>textID</th>\n",
       "      <th>bert_qa_predict</th>\n",
       "      <th>probability</th>\n",
       "      <th>text</th>\n",
       "      <th>sentiment</th>\n",
       "    </tr>\n",
       "  </thead>\n",
       "  <tbody>\n",
       "    <tr>\n",
       "      <th>0</th>\n",
       "      <td>f87dea47db</td>\n",
       "      <td>Last session of the day</td>\n",
       "      <td>0.509039</td>\n",
       "      <td>Last session of the day  http://twitpic.com/67ezh</td>\n",
       "      <td>neutral</td>\n",
       "    </tr>\n",
       "    <tr>\n",
       "      <th>1</th>\n",
       "      <td>96d74cb729</td>\n",
       "      <td>Good</td>\n",
       "      <td>0.174342</td>\n",
       "      <td>Shanghai is also really exciting (precisely -...</td>\n",
       "      <td>positive</td>\n",
       "    </tr>\n",
       "    <tr>\n",
       "      <th>2</th>\n",
       "      <td>eee518ae67</td>\n",
       "      <td>Recession hit Veronique Branquinho, she has to...</td>\n",
       "      <td>0.360804</td>\n",
       "      <td>Recession hit Veronique Branquinho, she has to...</td>\n",
       "      <td>negative</td>\n",
       "    </tr>\n",
       "    <tr>\n",
       "      <th>3</th>\n",
       "      <td>01082688c6</td>\n",
       "      <td>happy</td>\n",
       "      <td>0.502207</td>\n",
       "      <td>happy bday!</td>\n",
       "      <td>positive</td>\n",
       "    </tr>\n",
       "    <tr>\n",
       "      <th>4</th>\n",
       "      <td>33987a8ee5</td>\n",
       "      <td>I like it!!</td>\n",
       "      <td>0.311933</td>\n",
       "      <td>http://twitpic.com/4w75p - I like it!!</td>\n",
       "      <td>positive</td>\n",
       "    </tr>\n",
       "  </tbody>\n",
       "</table>\n",
       "</div>"
      ],
      "text/plain": [
       "       textID                                    bert_qa_predict  probability  \\\n",
       "0  f87dea47db                            Last session of the day     0.509039   \n",
       "1  96d74cb729                                               Good     0.174342   \n",
       "2  eee518ae67  Recession hit Veronique Branquinho, she has to...     0.360804   \n",
       "3  01082688c6                                              happy     0.502207   \n",
       "4  33987a8ee5                                        I like it!!     0.311933   \n",
       "\n",
       "                                                text sentiment  \n",
       "0  Last session of the day  http://twitpic.com/67ezh   neutral  \n",
       "1   Shanghai is also really exciting (precisely -...  positive  \n",
       "2  Recession hit Veronique Branquinho, she has to...  negative  \n",
       "3                                        happy bday!  positive  \n",
       "4             http://twitpic.com/4w75p - I like it!!  positive  "
      ]
     },
     "execution_count": 313,
     "metadata": {},
     "output_type": "execute_result"
    }
   ],
   "source": [
    "preds_df=preds_df.merge(test_df,left_on=\"textID\",right_on=\"textID\")\n",
    "print(preds_df.shape)\n",
    "preds_df.head()"
   ]
  },
  {
   "cell_type": "code",
   "execution_count": 314,
   "metadata": {},
   "outputs": [],
   "source": [
    "preds_df.to_csv(os.path.join(base_dir,\"bert_qa_models/test_bert_qa_predict.csv\"),index=False)"
   ]
  },
  {
   "cell_type": "code",
   "execution_count": 310,
   "metadata": {},
   "outputs": [],
   "source": [
    "preds_df2=preds_df.loc[:,[\"textID\",\"bert_qa_predict\"]].rename(columns={\"bert_qa_predict\":\"selected_text\"})\n",
    "#preds_df2.head()\n",
    "preds_df2.to_csv(os.path.join(base_dir,\"bert_qa_models/submission2.csv\"),index=False)"
   ]
  },
  {
   "cell_type": "code",
   "execution_count": null,
   "metadata": {},
   "outputs": [],
   "source": []
  },
  {
   "cell_type": "code",
   "execution_count": null,
   "metadata": {},
   "outputs": [],
   "source": []
  },
  {
   "cell_type": "code",
   "execution_count": null,
   "metadata": {},
   "outputs": [],
   "source": []
  }
 ],
 "metadata": {
  "kernelspec": {
   "display_name": "Python 3",
   "language": "python",
   "name": "python3"
  },
  "language_info": {
   "codemirror_mode": {
    "name": "ipython",
    "version": 3
   },
   "file_extension": ".py",
   "mimetype": "text/x-python",
   "name": "python",
   "nbconvert_exporter": "python",
   "pygments_lexer": "ipython3",
   "version": "3.7.4"
  }
 },
 "nbformat": 4,
 "nbformat_minor": 4
}
